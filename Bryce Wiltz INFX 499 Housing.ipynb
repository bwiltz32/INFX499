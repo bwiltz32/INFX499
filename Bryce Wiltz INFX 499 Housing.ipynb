{
 "cells": [
  {
   "cell_type": "code",
   "execution_count": 1,
   "metadata": {},
   "outputs": [],
   "source": [
    "import sys\n",
    "assert sys.version_info >= (3, 5)\n",
    "\n",
    "import sklearn\n",
    "assert sklearn.__version__ >= \"0.20\"\n",
    "\n",
    "import numpy as np\n",
    "import os\n",
    "\n",
    "%matplotlib inline\n",
    "import matplotlib as mpl\n",
    "import matplotlib.pyplot as plt\n",
    "mpl.rc('axes', labelsize=14)\n",
    "mpl.rc('xtick', labelsize=12)\n",
    "mpl.rc('ytick', labelsize=12)\n",
    "\n",
    "PROJECT_ROOT_DIR = \".\"\n",
    "CHAPTER_ID = \"end_to_end_project\"\n",
    "IMAGES_PATH = os.path.join(PROJECT_ROOT_DIR, \"images\", CHAPTER_ID)\n",
    "os.makedirs(IMAGES_PATH, exist_ok=True)\n",
    "\n",
    "def save_fig(fig_id, tight_layout=True, fig_extension=\"png\", resolution=300):\n",
    "    path = os.path.join(IMAGES_PATH, fig_id + \".\" + fig_extension)\n",
    "    print(\"Saving figure\", fig_id)\n",
    "    if tight_layout:\n",
    "        plt.tight_layout()\n",
    "    plt.savefig(path, format=fig_extension, dpi=resolution)\n",
    "    \n",
    "import warnings\n",
    "warnings.filterwarnings(action=\"ignore\", message=\"^internal gelsd\")\n"
   ]
  },
  {
   "cell_type": "code",
   "execution_count": 2,
   "metadata": {},
   "outputs": [],
   "source": [
    "import os\n",
    "import tarfile\n",
    "import urllib\n",
    "\n",
    "DOWNLOAD_ROOT = \"https://raw.githubusercontent.com/ageron/handson-ml2/master/\"\n",
    "HOUSING_PATH = os.path.join(\"datasets\", \"housing\")\n",
    "HOUSING_URL = DOWNLOAD_ROOT + \"datasets/housing/housing.tgz\"\n",
    "\n",
    "def fetch_housing_data(housing_url=HOUSING_URL, housing_path=HOUSING_PATH):\n",
    "    if not os.path.isdir(housing_path):\n",
    "        os.makedirs(housing_path)\n",
    "    tgz_path = os.path.join(housing_path, \"housing.tgz\")\n",
    "    urllib.request.urlretrieve(housing_url, tgz_path)\n",
    "    housing_tgz = tarfile.open(tgz_path)\n",
    "    housing_tgz.extractall(path=housing_path)\n",
    "    housing_tgz.close()"
   ]
  },
  {
   "cell_type": "code",
   "execution_count": 3,
   "metadata": {},
   "outputs": [],
   "source": [
    "fetch_housing_data()"
   ]
  },
  {
   "cell_type": "code",
   "execution_count": 4,
   "metadata": {},
   "outputs": [],
   "source": [
    "import pandas as pd\n",
    "\n",
    "def load_housing_data(housing_path=HOUSING_PATH):\n",
    "    csv_path = os.path.join(housing_path, \"housing.csv\")\n",
    "    return pd.read_csv(csv_path)"
   ]
  },
  {
   "cell_type": "code",
   "execution_count": 5,
   "metadata": {},
   "outputs": [
    {
     "data": {
      "text/html": [
       "<div>\n",
       "<style scoped>\n",
       "    .dataframe tbody tr th:only-of-type {\n",
       "        vertical-align: middle;\n",
       "    }\n",
       "\n",
       "    .dataframe tbody tr th {\n",
       "        vertical-align: top;\n",
       "    }\n",
       "\n",
       "    .dataframe thead th {\n",
       "        text-align: right;\n",
       "    }\n",
       "</style>\n",
       "<table border=\"1\" class=\"dataframe\">\n",
       "  <thead>\n",
       "    <tr style=\"text-align: right;\">\n",
       "      <th></th>\n",
       "      <th>longitude</th>\n",
       "      <th>latitude</th>\n",
       "      <th>housing_median_age</th>\n",
       "      <th>total_rooms</th>\n",
       "      <th>total_bedrooms</th>\n",
       "      <th>population</th>\n",
       "      <th>households</th>\n",
       "      <th>median_income</th>\n",
       "      <th>median_house_value</th>\n",
       "      <th>ocean_proximity</th>\n",
       "    </tr>\n",
       "  </thead>\n",
       "  <tbody>\n",
       "    <tr>\n",
       "      <th>0</th>\n",
       "      <td>-122.23</td>\n",
       "      <td>37.88</td>\n",
       "      <td>41.0</td>\n",
       "      <td>880.0</td>\n",
       "      <td>129.0</td>\n",
       "      <td>322.0</td>\n",
       "      <td>126.0</td>\n",
       "      <td>8.3252</td>\n",
       "      <td>452600.0</td>\n",
       "      <td>NEAR BAY</td>\n",
       "    </tr>\n",
       "    <tr>\n",
       "      <th>1</th>\n",
       "      <td>-122.22</td>\n",
       "      <td>37.86</td>\n",
       "      <td>21.0</td>\n",
       "      <td>7099.0</td>\n",
       "      <td>1106.0</td>\n",
       "      <td>2401.0</td>\n",
       "      <td>1138.0</td>\n",
       "      <td>8.3014</td>\n",
       "      <td>358500.0</td>\n",
       "      <td>NEAR BAY</td>\n",
       "    </tr>\n",
       "    <tr>\n",
       "      <th>2</th>\n",
       "      <td>-122.24</td>\n",
       "      <td>37.85</td>\n",
       "      <td>52.0</td>\n",
       "      <td>1467.0</td>\n",
       "      <td>190.0</td>\n",
       "      <td>496.0</td>\n",
       "      <td>177.0</td>\n",
       "      <td>7.2574</td>\n",
       "      <td>352100.0</td>\n",
       "      <td>NEAR BAY</td>\n",
       "    </tr>\n",
       "    <tr>\n",
       "      <th>3</th>\n",
       "      <td>-122.25</td>\n",
       "      <td>37.85</td>\n",
       "      <td>52.0</td>\n",
       "      <td>1274.0</td>\n",
       "      <td>235.0</td>\n",
       "      <td>558.0</td>\n",
       "      <td>219.0</td>\n",
       "      <td>5.6431</td>\n",
       "      <td>341300.0</td>\n",
       "      <td>NEAR BAY</td>\n",
       "    </tr>\n",
       "    <tr>\n",
       "      <th>4</th>\n",
       "      <td>-122.25</td>\n",
       "      <td>37.85</td>\n",
       "      <td>52.0</td>\n",
       "      <td>1627.0</td>\n",
       "      <td>280.0</td>\n",
       "      <td>565.0</td>\n",
       "      <td>259.0</td>\n",
       "      <td>3.8462</td>\n",
       "      <td>342200.0</td>\n",
       "      <td>NEAR BAY</td>\n",
       "    </tr>\n",
       "  </tbody>\n",
       "</table>\n",
       "</div>"
      ],
      "text/plain": [
       "   longitude  latitude  housing_median_age  total_rooms  total_bedrooms  \\\n",
       "0    -122.23     37.88                41.0        880.0           129.0   \n",
       "1    -122.22     37.86                21.0       7099.0          1106.0   \n",
       "2    -122.24     37.85                52.0       1467.0           190.0   \n",
       "3    -122.25     37.85                52.0       1274.0           235.0   \n",
       "4    -122.25     37.85                52.0       1627.0           280.0   \n",
       "\n",
       "   population  households  median_income  median_house_value ocean_proximity  \n",
       "0       322.0       126.0         8.3252            452600.0        NEAR BAY  \n",
       "1      2401.0      1138.0         8.3014            358500.0        NEAR BAY  \n",
       "2       496.0       177.0         7.2574            352100.0        NEAR BAY  \n",
       "3       558.0       219.0         5.6431            341300.0        NEAR BAY  \n",
       "4       565.0       259.0         3.8462            342200.0        NEAR BAY  "
      ]
     },
     "execution_count": 5,
     "metadata": {},
     "output_type": "execute_result"
    }
   ],
   "source": [
    "housing = load_housing_data()\n",
    "housing.head()"
   ]
  },
  {
   "cell_type": "code",
   "execution_count": 6,
   "metadata": {},
   "outputs": [
    {
     "name": "stdout",
     "output_type": "stream",
     "text": [
      "<class 'pandas.core.frame.DataFrame'>\n",
      "RangeIndex: 20640 entries, 0 to 20639\n",
      "Data columns (total 10 columns):\n",
      " #   Column              Non-Null Count  Dtype  \n",
      "---  ------              --------------  -----  \n",
      " 0   longitude           20640 non-null  float64\n",
      " 1   latitude            20640 non-null  float64\n",
      " 2   housing_median_age  20640 non-null  float64\n",
      " 3   total_rooms         20640 non-null  float64\n",
      " 4   total_bedrooms      20433 non-null  float64\n",
      " 5   population          20640 non-null  float64\n",
      " 6   households          20640 non-null  float64\n",
      " 7   median_income       20640 non-null  float64\n",
      " 8   median_house_value  20640 non-null  float64\n",
      " 9   ocean_proximity     20640 non-null  object \n",
      "dtypes: float64(9), object(1)\n",
      "memory usage: 1.6+ MB\n"
     ]
    }
   ],
   "source": [
    "housing.info()"
   ]
  },
  {
   "cell_type": "code",
   "execution_count": 7,
   "metadata": {},
   "outputs": [
    {
     "data": {
      "text/plain": [
       "<1H OCEAN     9136\n",
       "INLAND        6551\n",
       "NEAR OCEAN    2658\n",
       "NEAR BAY      2290\n",
       "ISLAND           5\n",
       "Name: ocean_proximity, dtype: int64"
      ]
     },
     "execution_count": 7,
     "metadata": {},
     "output_type": "execute_result"
    }
   ],
   "source": [
    "housing[\"ocean_proximity\"].value_counts()"
   ]
  },
  {
   "cell_type": "code",
   "execution_count": 8,
   "metadata": {},
   "outputs": [
    {
     "data": {
      "text/html": [
       "<div>\n",
       "<style scoped>\n",
       "    .dataframe tbody tr th:only-of-type {\n",
       "        vertical-align: middle;\n",
       "    }\n",
       "\n",
       "    .dataframe tbody tr th {\n",
       "        vertical-align: top;\n",
       "    }\n",
       "\n",
       "    .dataframe thead th {\n",
       "        text-align: right;\n",
       "    }\n",
       "</style>\n",
       "<table border=\"1\" class=\"dataframe\">\n",
       "  <thead>\n",
       "    <tr style=\"text-align: right;\">\n",
       "      <th></th>\n",
       "      <th>longitude</th>\n",
       "      <th>latitude</th>\n",
       "      <th>housing_median_age</th>\n",
       "      <th>total_rooms</th>\n",
       "      <th>total_bedrooms</th>\n",
       "      <th>population</th>\n",
       "      <th>households</th>\n",
       "      <th>median_income</th>\n",
       "      <th>median_house_value</th>\n",
       "    </tr>\n",
       "  </thead>\n",
       "  <tbody>\n",
       "    <tr>\n",
       "      <th>count</th>\n",
       "      <td>20640.000000</td>\n",
       "      <td>20640.000000</td>\n",
       "      <td>20640.000000</td>\n",
       "      <td>20640.000000</td>\n",
       "      <td>20433.000000</td>\n",
       "      <td>20640.000000</td>\n",
       "      <td>20640.000000</td>\n",
       "      <td>20640.000000</td>\n",
       "      <td>20640.000000</td>\n",
       "    </tr>\n",
       "    <tr>\n",
       "      <th>mean</th>\n",
       "      <td>-119.569704</td>\n",
       "      <td>35.631861</td>\n",
       "      <td>28.639486</td>\n",
       "      <td>2635.763081</td>\n",
       "      <td>537.870553</td>\n",
       "      <td>1425.476744</td>\n",
       "      <td>499.539680</td>\n",
       "      <td>3.870671</td>\n",
       "      <td>206855.816909</td>\n",
       "    </tr>\n",
       "    <tr>\n",
       "      <th>std</th>\n",
       "      <td>2.003532</td>\n",
       "      <td>2.135952</td>\n",
       "      <td>12.585558</td>\n",
       "      <td>2181.615252</td>\n",
       "      <td>421.385070</td>\n",
       "      <td>1132.462122</td>\n",
       "      <td>382.329753</td>\n",
       "      <td>1.899822</td>\n",
       "      <td>115395.615874</td>\n",
       "    </tr>\n",
       "    <tr>\n",
       "      <th>min</th>\n",
       "      <td>-124.350000</td>\n",
       "      <td>32.540000</td>\n",
       "      <td>1.000000</td>\n",
       "      <td>2.000000</td>\n",
       "      <td>1.000000</td>\n",
       "      <td>3.000000</td>\n",
       "      <td>1.000000</td>\n",
       "      <td>0.499900</td>\n",
       "      <td>14999.000000</td>\n",
       "    </tr>\n",
       "    <tr>\n",
       "      <th>25%</th>\n",
       "      <td>-121.800000</td>\n",
       "      <td>33.930000</td>\n",
       "      <td>18.000000</td>\n",
       "      <td>1447.750000</td>\n",
       "      <td>296.000000</td>\n",
       "      <td>787.000000</td>\n",
       "      <td>280.000000</td>\n",
       "      <td>2.563400</td>\n",
       "      <td>119600.000000</td>\n",
       "    </tr>\n",
       "    <tr>\n",
       "      <th>50%</th>\n",
       "      <td>-118.490000</td>\n",
       "      <td>34.260000</td>\n",
       "      <td>29.000000</td>\n",
       "      <td>2127.000000</td>\n",
       "      <td>435.000000</td>\n",
       "      <td>1166.000000</td>\n",
       "      <td>409.000000</td>\n",
       "      <td>3.534800</td>\n",
       "      <td>179700.000000</td>\n",
       "    </tr>\n",
       "    <tr>\n",
       "      <th>75%</th>\n",
       "      <td>-118.010000</td>\n",
       "      <td>37.710000</td>\n",
       "      <td>37.000000</td>\n",
       "      <td>3148.000000</td>\n",
       "      <td>647.000000</td>\n",
       "      <td>1725.000000</td>\n",
       "      <td>605.000000</td>\n",
       "      <td>4.743250</td>\n",
       "      <td>264725.000000</td>\n",
       "    </tr>\n",
       "    <tr>\n",
       "      <th>max</th>\n",
       "      <td>-114.310000</td>\n",
       "      <td>41.950000</td>\n",
       "      <td>52.000000</td>\n",
       "      <td>39320.000000</td>\n",
       "      <td>6445.000000</td>\n",
       "      <td>35682.000000</td>\n",
       "      <td>6082.000000</td>\n",
       "      <td>15.000100</td>\n",
       "      <td>500001.000000</td>\n",
       "    </tr>\n",
       "  </tbody>\n",
       "</table>\n",
       "</div>"
      ],
      "text/plain": [
       "          longitude      latitude  housing_median_age   total_rooms  \\\n",
       "count  20640.000000  20640.000000        20640.000000  20640.000000   \n",
       "mean    -119.569704     35.631861           28.639486   2635.763081   \n",
       "std        2.003532      2.135952           12.585558   2181.615252   \n",
       "min     -124.350000     32.540000            1.000000      2.000000   \n",
       "25%     -121.800000     33.930000           18.000000   1447.750000   \n",
       "50%     -118.490000     34.260000           29.000000   2127.000000   \n",
       "75%     -118.010000     37.710000           37.000000   3148.000000   \n",
       "max     -114.310000     41.950000           52.000000  39320.000000   \n",
       "\n",
       "       total_bedrooms    population    households  median_income  \\\n",
       "count    20433.000000  20640.000000  20640.000000   20640.000000   \n",
       "mean       537.870553   1425.476744    499.539680       3.870671   \n",
       "std        421.385070   1132.462122    382.329753       1.899822   \n",
       "min          1.000000      3.000000      1.000000       0.499900   \n",
       "25%        296.000000    787.000000    280.000000       2.563400   \n",
       "50%        435.000000   1166.000000    409.000000       3.534800   \n",
       "75%        647.000000   1725.000000    605.000000       4.743250   \n",
       "max       6445.000000  35682.000000   6082.000000      15.000100   \n",
       "\n",
       "       median_house_value  \n",
       "count        20640.000000  \n",
       "mean        206855.816909  \n",
       "std         115395.615874  \n",
       "min          14999.000000  \n",
       "25%         119600.000000  \n",
       "50%         179700.000000  \n",
       "75%         264725.000000  \n",
       "max         500001.000000  "
      ]
     },
     "execution_count": 8,
     "metadata": {},
     "output_type": "execute_result"
    }
   ],
   "source": [
    "housing.describe()"
   ]
  },
  {
   "cell_type": "code",
   "execution_count": 9,
   "metadata": {},
   "outputs": [
    {
     "name": "stdout",
     "output_type": "stream",
     "text": [
      "Saving figure attribute_histogram_plots\n"
     ]
    },
    {
     "data": {
      "image/png": "[encoded data removed]",
      "text/plain": [
       "<Figure size 1440x1080 with 9 Axes>"
      ]
     },
     "metadata": {
      "needs_background": "light"
     },
     "output_type": "display_data"
    }
   ],
   "source": [
    "%matplotlib inline\n",
    "import matplotlib.pyplot as plt\n",
    "housing.hist(bins=50, figsize=(20,15))\n",
    "save_fig(\"attribute_histogram_plots\")\n",
    "plt.show()"
   ]
  },
  {
   "cell_type": "code",
   "execution_count": 10,
   "metadata": {},
   "outputs": [],
   "source": [
    "np.random.seed(42)"
   ]
  },
  {
   "cell_type": "code",
   "execution_count": 11,
   "metadata": {},
   "outputs": [],
   "source": [
    "import numpy as np\n",
    "\n",
    "# For illustration only. Sklearn has train_test_split()\n",
    "def split_train_test(data, test_ratio):\n",
    "    shuffled_indices = np.random.permutation(len(data))\n",
    "    test_set_size = int(len(data) * test_ratio)\n",
    "    test_indices = shuffled_indices[:test_set_size]\n",
    "    train_indices = shuffled_indices[test_set_size:]\n",
    "    return data.iloc[train_indices], data.iloc[test_indices]"
   ]
  },
  {
   "cell_type": "code",
   "execution_count": 12,
   "metadata": {},
   "outputs": [
    {
     "data": {
      "text/plain": [
       "16512"
      ]
     },
     "execution_count": 12,
     "metadata": {},
     "output_type": "execute_result"
    }
   ],
   "source": [
    "train_set, test_set = split_train_test(housing, 0.2)\n",
    "len(train_set)"
   ]
  },
  {
   "cell_type": "code",
   "execution_count": 13,
   "metadata": {},
   "outputs": [
    {
     "data": {
      "text/plain": [
       "4128"
      ]
     },
     "execution_count": 13,
     "metadata": {},
     "output_type": "execute_result"
    }
   ],
   "source": [
    "len(test_set)"
   ]
  },
  {
   "cell_type": "code",
   "execution_count": 14,
   "metadata": {},
   "outputs": [],
   "source": [
    "from zlib import crc32\n",
    "\n",
    "def test_set_check(identifier, test_ratio):\n",
    "    return crc32(np.int64(identifier)) & 0xffffffff < test_ratio * 2**32\n",
    "\n",
    "def split_train_test_by_id(data, test_ratio, id_column):\n",
    "    ids = data[id_column]\n",
    "    in_test_set = ids.apply(lambda id_: test_set_check(id_, test_ratio))\n",
    "    return data.loc[~in_test_set], data.loc[in_test_set]"
   ]
  },
  {
   "cell_type": "code",
   "execution_count": 15,
   "metadata": {},
   "outputs": [],
   "source": [
    "housing_with_id = housing.reset_index()   # adds an `index` column\n",
    "train_set, test_set = split_train_test_by_id(housing_with_id, 0.2, \"index\")\n",
    "\n",
    "housing_with_id[\"id\"] = housing[\"longitude\"] * 1000 + housing[\"latitude\"]\n",
    "train_set, test_set = split_train_test_by_id(housing_with_id, 0.2, \"id\")"
   ]
  },
  {
   "cell_type": "code",
   "execution_count": 16,
   "metadata": {},
   "outputs": [],
   "source": [
    "from sklearn.model_selection import train_test_split\n",
    "\n",
    "train_set, test_set = train_test_split(housing, test_size=0.2, random_state=42)"
   ]
  },
  {
   "cell_type": "code",
   "execution_count": 17,
   "metadata": {},
   "outputs": [],
   "source": [
    "housing[\"income_cat\"] = pd.cut(housing[\"median_income\"],\n",
    "                               bins=[0., 1.5, 3.0, 4.5, 6., np.inf],\n",
    "                               labels=[1, 2, 3, 4, 5])"
   ]
  },
  {
   "cell_type": "code",
   "execution_count": 18,
   "metadata": {},
   "outputs": [
    {
     "data": {
      "text/plain": [
       "3    7236\n",
       "2    6581\n",
       "4    3639\n",
       "5    2362\n",
       "1     822\n",
       "Name: income_cat, dtype: int64"
      ]
     },
     "execution_count": 18,
     "metadata": {},
     "output_type": "execute_result"
    }
   ],
   "source": [
    "housing[\"income_cat\"].value_counts()"
   ]
  },
  {
   "cell_type": "code",
   "execution_count": 19,
   "metadata": {},
   "outputs": [
    {
     "data": {
      "text/plain": [
       "<AxesSubplot:>"
      ]
     },
     "execution_count": 19,
     "metadata": {},
     "output_type": "execute_result"
    },
    {
     "data": {
      "image/png": "[encoded data removed]",
      "text/plain": [
       "<Figure size 432x288 with 1 Axes>"
      ]
     },
     "metadata": {
      "needs_background": "light"
     },
     "output_type": "display_data"
    }
   ],
   "source": [
    "housing[\"income_cat\"].hist()"
   ]
  },
  {
   "cell_type": "code",
   "execution_count": 20,
   "metadata": {},
   "outputs": [],
   "source": [
    "from sklearn.model_selection import StratifiedShuffleSplit\n",
    "\n",
    "split = StratifiedShuffleSplit(n_splits=1, test_size=0.2, random_state=42)\n",
    "for train_index, test_index in split.split(housing, housing[\"income_cat\"]):\n",
    "    strat_train_set = housing.loc[train_index]\n",
    "    strat_test_set = housing.loc[test_index]"
   ]
  },
  {
   "cell_type": "code",
   "execution_count": 21,
   "metadata": {},
   "outputs": [
    {
     "data": {
      "text/plain": [
       "3    0.350533\n",
       "2    0.318798\n",
       "4    0.176357\n",
       "5    0.114583\n",
       "1    0.039729\n",
       "Name: income_cat, dtype: float64"
      ]
     },
     "execution_count": 21,
     "metadata": {},
     "output_type": "execute_result"
    }
   ],
   "source": [
    "strat_test_set[\"income_cat\"].value_counts() / len(strat_test_set)"
   ]
  },
  {
   "cell_type": "code",
   "execution_count": 22,
   "metadata": {},
   "outputs": [
    {
     "data": {
      "text/plain": [
       "3    0.350581\n",
       "2    0.318847\n",
       "4    0.176308\n",
       "5    0.114438\n",
       "1    0.039826\n",
       "Name: income_cat, dtype: float64"
      ]
     },
     "execution_count": 22,
     "metadata": {},
     "output_type": "execute_result"
    }
   ],
   "source": [
    "housing[\"income_cat\"].value_counts() / len(housing)"
   ]
  },
  {
   "cell_type": "code",
   "execution_count": 23,
   "metadata": {},
   "outputs": [],
   "source": [
    "for set_ in (strat_train_set, strat_test_set):\n",
    "    set_.drop(\"income_cat\", axis=1, inplace=True)"
   ]
  },
  {
   "cell_type": "code",
   "execution_count": 24,
   "metadata": {},
   "outputs": [],
   "source": [
    "housing = strat_train_set.copy()"
   ]
  },
  {
   "cell_type": "code",
   "execution_count": 25,
   "metadata": {},
   "outputs": [
    {
     "data": {
      "text/plain": [
       "<AxesSubplot:xlabel='longitude', ylabel='latitude'>"
      ]
     },
     "execution_count": 25,
     "metadata": {},
     "output_type": "execute_result"
    },
    {
     "data": {
      "image/png": "[encoded data removed]",
      "text/plain": [
       "<Figure size 432x288 with 1 Axes>"
      ]
     },
     "metadata": {
      "needs_background": "light"
     },
     "output_type": "display_data"
    }
   ],
   "source": [
    "housing.plot(kind=\"scatter\", x=\"longitude\", y=\"latitude\")"
   ]
  },
  {
   "cell_type": "code",
   "execution_count": 26,
   "metadata": {},
   "outputs": [
    {
     "data": {
      "text/plain": [
       "<AxesSubplot:xlabel='longitude', ylabel='latitude'>"
      ]
     },
     "execution_count": 26,
     "metadata": {},
     "output_type": "execute_result"
    },
    {
     "data": {
      "image/png": "[encoded data removed]",
      "text/plain": [
       "<Figure size 432x288 with 1 Axes>"
      ]
     },
     "metadata": {
      "needs_background": "light"
     },
     "output_type": "display_data"
    }
   ],
   "source": [
    "housing.plot(kind=\"scatter\", x=\"longitude\", y=\"latitude\", alpha=0.1)"
   ]
  },
  {
   "cell_type": "code",
   "execution_count": 27,
   "metadata": {},
   "outputs": [
    {
     "data": {
      "text/plain": [
       "<matplotlib.legend.Legend at 0x7f0200611670>"
      ]
     },
     "execution_count": 27,
     "metadata": {},
     "output_type": "execute_result"
    },
    {
     "data": {
      "image/png": "[encoded data removed]",
      "text/plain": [
       "<Figure size 720x504 with 2 Axes>"
      ]
     },
     "metadata": {
      "needs_background": "light"
     },
     "output_type": "display_data"
    }
   ],
   "source": [
    "housing.plot(kind=\"scatter\", x=\"longitude\", y=\"latitude\", alpha=0.4,\n",
    "    s=housing[\"population\"]/100, label=\"population\", figsize=(10,7),\n",
    "    c=\"median_house_value\", cmap=plt.get_cmap(\"jet\"), colorbar=True,\n",
    "    sharex=False)\n",
    "plt.legend()"
   ]
  },
  {
   "cell_type": "code",
   "execution_count": 28,
   "metadata": {},
   "outputs": [],
   "source": [
    "corr_matrix = housing.corr()"
   ]
  },
  {
   "cell_type": "code",
   "execution_count": 29,
   "metadata": {},
   "outputs": [
    {
     "data": {
      "text/plain": [
       "median_house_value    1.000000\n",
       "median_income         0.687160\n",
       "total_rooms           0.135097\n",
       "housing_median_age    0.114110\n",
       "households            0.064506\n",
       "total_bedrooms        0.047689\n",
       "population           -0.026920\n",
       "longitude            -0.047432\n",
       "latitude             -0.142724\n",
       "Name: median_house_value, dtype: float64"
      ]
     },
     "execution_count": 29,
     "metadata": {},
     "output_type": "execute_result"
    }
   ],
   "source": [
    "corr_matrix[\"median_house_value\"].sort_values(ascending=False)"
   ]
  },
  {
   "cell_type": "code",
   "execution_count": 30,
   "metadata": {},
   "outputs": [
    {
     "data": {
      "text/plain": [
       "array([[<AxesSubplot:xlabel='median_house_value', ylabel='median_house_value'>,\n",
       "        <AxesSubplot:xlabel='median_income', ylabel='median_house_value'>,\n",
       "        <AxesSubplot:xlabel='total_rooms', ylabel='median_house_value'>,\n",
       "        <AxesSubplot:xlabel='housing_median_age', ylabel='median_house_value'>],\n",
       "       [<AxesSubplot:xlabel='median_house_value', ylabel='median_income'>,\n",
       "        <AxesSubplot:xlabel='median_income', ylabel='median_income'>,\n",
       "        <AxesSubplot:xlabel='total_rooms', ylabel='median_income'>,\n",
       "        <AxesSubplot:xlabel='housing_median_age', ylabel='median_income'>],\n",
       "       [<AxesSubplot:xlabel='median_house_value', ylabel='total_rooms'>,\n",
       "        <AxesSubplot:xlabel='median_income', ylabel='total_rooms'>,\n",
       "        <AxesSubplot:xlabel='total_rooms', ylabel='total_rooms'>,\n",
       "        <AxesSubplot:xlabel='housing_median_age', ylabel='total_rooms'>],\n",
       "       [<AxesSubplot:xlabel='median_house_value', ylabel='housing_median_age'>,\n",
       "        <AxesSubplot:xlabel='median_income', ylabel='housing_median_age'>,\n",
       "        <AxesSubplot:xlabel='total_rooms', ylabel='housing_median_age'>,\n",
       "        <AxesSubplot:xlabel='housing_median_age', ylabel='housing_median_age'>]],\n",
       "      dtype=object)"
      ]
     },
     "execution_count": 30,
     "metadata": {},
     "output_type": "execute_result"
    },
    {
     "data": {
      "image/png": "[encoded data removed]",
      "text/plain": [
       "<Figure size 864x576 with 16 Axes>"
      ]
     },
     "metadata": {
      "needs_background": "light"
     },
     "output_type": "display_data"
    }
   ],
   "source": [
    "from pandas.plotting import scatter_matrix\n",
    "\n",
    "attributes = [\"median_house_value\", \"median_income\", \"total_rooms\",\n",
    "              \"housing_median_age\"]\n",
    "scatter_matrix(housing[attributes], figsize=(12, 8))"
   ]
  },
  {
   "cell_type": "code",
   "execution_count": 31,
   "metadata": {},
   "outputs": [
    {
     "data": {
      "text/plain": [
       "(0.0, 16.0, 0.0, 550000.0)"
      ]
     },
     "execution_count": 31,
     "metadata": {},
     "output_type": "execute_result"
    },
    {
     "data": {
      "image/png": "[encoded data removed]",
      "text/plain": [
       "<Figure size 432x288 with 1 Axes>"
      ]
     },
     "metadata": {
      "needs_background": "light"
     },
     "output_type": "display_data"
    }
   ],
   "source": [
    "housing.plot(kind=\"scatter\", x=\"median_income\", y=\"median_house_value\",\n",
    "             alpha=0.1)\n",
    "plt.axis([0, 16, 0, 550000])"
   ]
  },
  {
   "cell_type": "code",
   "execution_count": 32,
   "metadata": {},
   "outputs": [],
   "source": [
    "housing[\"rooms_per_household\"] = housing[\"total_rooms\"]/housing[\"households\"]\n",
    "housing[\"bedrooms_per_room\"] = housing[\"total_bedrooms\"]/housing[\"total_rooms\"]\n",
    "housing[\"population_per_household\"]=housing[\"population\"]/housing[\"households\"]\n"
   ]
  },
  {
   "cell_type": "code",
   "execution_count": 33,
   "metadata": {},
   "outputs": [
    {
     "data": {
      "text/plain": [
       "median_house_value          1.000000\n",
       "median_income               0.687160\n",
       "rooms_per_household         0.146285\n",
       "total_rooms                 0.135097\n",
       "housing_median_age          0.114110\n",
       "households                  0.064506\n",
       "total_bedrooms              0.047689\n",
       "population_per_household   -0.021985\n",
       "population                 -0.026920\n",
       "longitude                  -0.047432\n",
       "latitude                   -0.142724\n",
       "bedrooms_per_room          -0.259984\n",
       "Name: median_house_value, dtype: float64"
      ]
     },
     "execution_count": 33,
     "metadata": {},
     "output_type": "execute_result"
    }
   ],
   "source": [
    "corr_matrix = housing.corr()\n",
    "corr_matrix[\"median_house_value\"].sort_values(ascending=False)"
   ]
  },
  {
   "cell_type": "code",
   "execution_count": 34,
   "metadata": {},
   "outputs": [],
   "source": [
    "housing = strat_train_set.drop(\"median_house_value\", axis=1) \n",
    "housing_labels = strat_train_set[\"median_house_value\"].copy()"
   ]
  },
  {
   "cell_type": "code",
   "execution_count": 35,
   "metadata": {},
   "outputs": [
    {
     "data": {
      "text/html": [
       "<div>\n",
       "<style scoped>\n",
       "    .dataframe tbody tr th:only-of-type {\n",
       "        vertical-align: middle;\n",
       "    }\n",
       "\n",
       "    .dataframe tbody tr th {\n",
       "        vertical-align: top;\n",
       "    }\n",
       "\n",
       "    .dataframe thead th {\n",
       "        text-align: right;\n",
       "    }\n",
       "</style>\n",
       "<table border=\"1\" class=\"dataframe\">\n",
       "  <thead>\n",
       "    <tr style=\"text-align: right;\">\n",
       "      <th></th>\n",
       "      <th>longitude</th>\n",
       "      <th>latitude</th>\n",
       "      <th>housing_median_age</th>\n",
       "      <th>total_rooms</th>\n",
       "      <th>total_bedrooms</th>\n",
       "      <th>population</th>\n",
       "      <th>households</th>\n",
       "      <th>median_income</th>\n",
       "      <th>ocean_proximity</th>\n",
       "    </tr>\n",
       "  </thead>\n",
       "  <tbody>\n",
       "    <tr>\n",
       "      <th>4629</th>\n",
       "      <td>-118.30</td>\n",
       "      <td>34.07</td>\n",
       "      <td>18.0</td>\n",
       "      <td>3759.0</td>\n",
       "      <td>NaN</td>\n",
       "      <td>3296.0</td>\n",
       "      <td>1462.0</td>\n",
       "      <td>2.2708</td>\n",
       "      <td>&lt;1H OCEAN</td>\n",
       "    </tr>\n",
       "    <tr>\n",
       "      <th>6068</th>\n",
       "      <td>-117.86</td>\n",
       "      <td>34.01</td>\n",
       "      <td>16.0</td>\n",
       "      <td>4632.0</td>\n",
       "      <td>NaN</td>\n",
       "      <td>3038.0</td>\n",
       "      <td>727.0</td>\n",
       "      <td>5.1762</td>\n",
       "      <td>&lt;1H OCEAN</td>\n",
       "    </tr>\n",
       "    <tr>\n",
       "      <th>17923</th>\n",
       "      <td>-121.97</td>\n",
       "      <td>37.35</td>\n",
       "      <td>30.0</td>\n",
       "      <td>1955.0</td>\n",
       "      <td>NaN</td>\n",
       "      <td>999.0</td>\n",
       "      <td>386.0</td>\n",
       "      <td>4.6328</td>\n",
       "      <td>&lt;1H OCEAN</td>\n",
       "    </tr>\n",
       "    <tr>\n",
       "      <th>13656</th>\n",
       "      <td>-117.30</td>\n",
       "      <td>34.05</td>\n",
       "      <td>6.0</td>\n",
       "      <td>2155.0</td>\n",
       "      <td>NaN</td>\n",
       "      <td>1039.0</td>\n",
       "      <td>391.0</td>\n",
       "      <td>1.6675</td>\n",
       "      <td>INLAND</td>\n",
       "    </tr>\n",
       "    <tr>\n",
       "      <th>19252</th>\n",
       "      <td>-122.79</td>\n",
       "      <td>38.48</td>\n",
       "      <td>7.0</td>\n",
       "      <td>6837.0</td>\n",
       "      <td>NaN</td>\n",
       "      <td>3468.0</td>\n",
       "      <td>1405.0</td>\n",
       "      <td>3.1662</td>\n",
       "      <td>&lt;1H OCEAN</td>\n",
       "    </tr>\n",
       "  </tbody>\n",
       "</table>\n",
       "</div>"
      ],
      "text/plain": [
       "       longitude  latitude  housing_median_age  total_rooms  total_bedrooms  \\\n",
       "4629     -118.30     34.07                18.0       3759.0             NaN   \n",
       "6068     -117.86     34.01                16.0       4632.0             NaN   \n",
       "17923    -121.97     37.35                30.0       1955.0             NaN   \n",
       "13656    -117.30     34.05                 6.0       2155.0             NaN   \n",
       "19252    -122.79     38.48                 7.0       6837.0             NaN   \n",
       "\n",
       "       population  households  median_income ocean_proximity  \n",
       "4629       3296.0      1462.0         2.2708       <1H OCEAN  \n",
       "6068       3038.0       727.0         5.1762       <1H OCEAN  \n",
       "17923       999.0       386.0         4.6328       <1H OCEAN  \n",
       "13656      1039.0       391.0         1.6675          INLAND  \n",
       "19252      3468.0      1405.0         3.1662       <1H OCEAN  "
      ]
     },
     "execution_count": 35,
     "metadata": {},
     "output_type": "execute_result"
    }
   ],
   "source": [
    "sample_incomplete_rows = housing[housing.isnull().any(axis=1)].head()\n",
    "sample_incomplete_rows"
   ]
  },
  {
   "cell_type": "code",
   "execution_count": 36,
   "metadata": {},
   "outputs": [
    {
     "data": {
      "text/html": [
       "<div>\n",
       "<style scoped>\n",
       "    .dataframe tbody tr th:only-of-type {\n",
       "        vertical-align: middle;\n",
       "    }\n",
       "\n",
       "    .dataframe tbody tr th {\n",
       "        vertical-align: top;\n",
       "    }\n",
       "\n",
       "    .dataframe thead th {\n",
       "        text-align: right;\n",
       "    }\n",
       "</style>\n",
       "<table border=\"1\" class=\"dataframe\">\n",
       "  <thead>\n",
       "    <tr style=\"text-align: right;\">\n",
       "      <th></th>\n",
       "      <th>longitude</th>\n",
       "      <th>latitude</th>\n",
       "      <th>housing_median_age</th>\n",
       "      <th>total_rooms</th>\n",
       "      <th>total_bedrooms</th>\n",
       "      <th>population</th>\n",
       "      <th>households</th>\n",
       "      <th>median_income</th>\n",
       "      <th>ocean_proximity</th>\n",
       "    </tr>\n",
       "  </thead>\n",
       "  <tbody>\n",
       "  </tbody>\n",
       "</table>\n",
       "</div>"
      ],
      "text/plain": [
       "Empty DataFrame\n",
       "Columns: [longitude, latitude, housing_median_age, total_rooms, total_bedrooms, population, households, median_income, ocean_proximity]\n",
       "Index: []"
      ]
     },
     "execution_count": 36,
     "metadata": {},
     "output_type": "execute_result"
    }
   ],
   "source": [
    "sample_incomplete_rows.dropna(subset=[\"total_bedrooms\"])"
   ]
  },
  {
   "cell_type": "code",
   "execution_count": 37,
   "metadata": {},
   "outputs": [
    {
     "data": {
      "text/html": [
       "<div>\n",
       "<style scoped>\n",
       "    .dataframe tbody tr th:only-of-type {\n",
       "        vertical-align: middle;\n",
       "    }\n",
       "\n",
       "    .dataframe tbody tr th {\n",
       "        vertical-align: top;\n",
       "    }\n",
       "\n",
       "    .dataframe thead th {\n",
       "        text-align: right;\n",
       "    }\n",
       "</style>\n",
       "<table border=\"1\" class=\"dataframe\">\n",
       "  <thead>\n",
       "    <tr style=\"text-align: right;\">\n",
       "      <th></th>\n",
       "      <th>longitude</th>\n",
       "      <th>latitude</th>\n",
       "      <th>housing_median_age</th>\n",
       "      <th>total_rooms</th>\n",
       "      <th>population</th>\n",
       "      <th>households</th>\n",
       "      <th>median_income</th>\n",
       "      <th>ocean_proximity</th>\n",
       "    </tr>\n",
       "  </thead>\n",
       "  <tbody>\n",
       "    <tr>\n",
       "      <th>4629</th>\n",
       "      <td>-118.30</td>\n",
       "      <td>34.07</td>\n",
       "      <td>18.0</td>\n",
       "      <td>3759.0</td>\n",
       "      <td>3296.0</td>\n",
       "      <td>1462.0</td>\n",
       "      <td>2.2708</td>\n",
       "      <td>&lt;1H OCEAN</td>\n",
       "    </tr>\n",
       "    <tr>\n",
       "      <th>6068</th>\n",
       "      <td>-117.86</td>\n",
       "      <td>34.01</td>\n",
       "      <td>16.0</td>\n",
       "      <td>4632.0</td>\n",
       "      <td>3038.0</td>\n",
       "      <td>727.0</td>\n",
       "      <td>5.1762</td>\n",
       "      <td>&lt;1H OCEAN</td>\n",
       "    </tr>\n",
       "    <tr>\n",
       "      <th>17923</th>\n",
       "      <td>-121.97</td>\n",
       "      <td>37.35</td>\n",
       "      <td>30.0</td>\n",
       "      <td>1955.0</td>\n",
       "      <td>999.0</td>\n",
       "      <td>386.0</td>\n",
       "      <td>4.6328</td>\n",
       "      <td>&lt;1H OCEAN</td>\n",
       "    </tr>\n",
       "    <tr>\n",
       "      <th>13656</th>\n",
       "      <td>-117.30</td>\n",
       "      <td>34.05</td>\n",
       "      <td>6.0</td>\n",
       "      <td>2155.0</td>\n",
       "      <td>1039.0</td>\n",
       "      <td>391.0</td>\n",
       "      <td>1.6675</td>\n",
       "      <td>INLAND</td>\n",
       "    </tr>\n",
       "    <tr>\n",
       "      <th>19252</th>\n",
       "      <td>-122.79</td>\n",
       "      <td>38.48</td>\n",
       "      <td>7.0</td>\n",
       "      <td>6837.0</td>\n",
       "      <td>3468.0</td>\n",
       "      <td>1405.0</td>\n",
       "      <td>3.1662</td>\n",
       "      <td>&lt;1H OCEAN</td>\n",
       "    </tr>\n",
       "  </tbody>\n",
       "</table>\n",
       "</div>"
      ],
      "text/plain": [
       "       longitude  latitude  housing_median_age  total_rooms  population  \\\n",
       "4629     -118.30     34.07                18.0       3759.0      3296.0   \n",
       "6068     -117.86     34.01                16.0       4632.0      3038.0   \n",
       "17923    -121.97     37.35                30.0       1955.0       999.0   \n",
       "13656    -117.30     34.05                 6.0       2155.0      1039.0   \n",
       "19252    -122.79     38.48                 7.0       6837.0      3468.0   \n",
       "\n",
       "       households  median_income ocean_proximity  \n",
       "4629       1462.0         2.2708       <1H OCEAN  \n",
       "6068        727.0         5.1762       <1H OCEAN  \n",
       "17923       386.0         4.6328       <1H OCEAN  \n",
       "13656       391.0         1.6675          INLAND  \n",
       "19252      1405.0         3.1662       <1H OCEAN  "
      ]
     },
     "execution_count": 37,
     "metadata": {},
     "output_type": "execute_result"
    }
   ],
   "source": [
    "sample_incomplete_rows.drop(\"total_bedrooms\", axis=1)"
   ]
  },
  {
   "cell_type": "code",
   "execution_count": 38,
   "metadata": {},
   "outputs": [],
   "source": [
    "median = housing[\"total_bedrooms\"].median()\n",
    "sample_incomplete_rows[\"total_bedrooms\"].fillna(median, inplace=True)"
   ]
  },
  {
   "cell_type": "code",
   "execution_count": 39,
   "metadata": {},
   "outputs": [
    {
     "data": {
      "text/html": [
       "<div>\n",
       "<style scoped>\n",
       "    .dataframe tbody tr th:only-of-type {\n",
       "        vertical-align: middle;\n",
       "    }\n",
       "\n",
       "    .dataframe tbody tr th {\n",
       "        vertical-align: top;\n",
       "    }\n",
       "\n",
       "    .dataframe thead th {\n",
       "        text-align: right;\n",
       "    }\n",
       "</style>\n",
       "<table border=\"1\" class=\"dataframe\">\n",
       "  <thead>\n",
       "    <tr style=\"text-align: right;\">\n",
       "      <th></th>\n",
       "      <th>longitude</th>\n",
       "      <th>latitude</th>\n",
       "      <th>housing_median_age</th>\n",
       "      <th>total_rooms</th>\n",
       "      <th>total_bedrooms</th>\n",
       "      <th>population</th>\n",
       "      <th>households</th>\n",
       "      <th>median_income</th>\n",
       "      <th>ocean_proximity</th>\n",
       "    </tr>\n",
       "  </thead>\n",
       "  <tbody>\n",
       "    <tr>\n",
       "      <th>4629</th>\n",
       "      <td>-118.30</td>\n",
       "      <td>34.07</td>\n",
       "      <td>18.0</td>\n",
       "      <td>3759.0</td>\n",
       "      <td>433.0</td>\n",
       "      <td>3296.0</td>\n",
       "      <td>1462.0</td>\n",
       "      <td>2.2708</td>\n",
       "      <td>&lt;1H OCEAN</td>\n",
       "    </tr>\n",
       "    <tr>\n",
       "      <th>6068</th>\n",
       "      <td>-117.86</td>\n",
       "      <td>34.01</td>\n",
       "      <td>16.0</td>\n",
       "      <td>4632.0</td>\n",
       "      <td>433.0</td>\n",
       "      <td>3038.0</td>\n",
       "      <td>727.0</td>\n",
       "      <td>5.1762</td>\n",
       "      <td>&lt;1H OCEAN</td>\n",
       "    </tr>\n",
       "    <tr>\n",
       "      <th>17923</th>\n",
       "      <td>-121.97</td>\n",
       "      <td>37.35</td>\n",
       "      <td>30.0</td>\n",
       "      <td>1955.0</td>\n",
       "      <td>433.0</td>\n",
       "      <td>999.0</td>\n",
       "      <td>386.0</td>\n",
       "      <td>4.6328</td>\n",
       "      <td>&lt;1H OCEAN</td>\n",
       "    </tr>\n",
       "    <tr>\n",
       "      <th>13656</th>\n",
       "      <td>-117.30</td>\n",
       "      <td>34.05</td>\n",
       "      <td>6.0</td>\n",
       "      <td>2155.0</td>\n",
       "      <td>433.0</td>\n",
       "      <td>1039.0</td>\n",
       "      <td>391.0</td>\n",
       "      <td>1.6675</td>\n",
       "      <td>INLAND</td>\n",
       "    </tr>\n",
       "    <tr>\n",
       "      <th>19252</th>\n",
       "      <td>-122.79</td>\n",
       "      <td>38.48</td>\n",
       "      <td>7.0</td>\n",
       "      <td>6837.0</td>\n",
       "      <td>433.0</td>\n",
       "      <td>3468.0</td>\n",
       "      <td>1405.0</td>\n",
       "      <td>3.1662</td>\n",
       "      <td>&lt;1H OCEAN</td>\n",
       "    </tr>\n",
       "  </tbody>\n",
       "</table>\n",
       "</div>"
      ],
      "text/plain": [
       "       longitude  latitude  housing_median_age  total_rooms  total_bedrooms  \\\n",
       "4629     -118.30     34.07                18.0       3759.0           433.0   \n",
       "6068     -117.86     34.01                16.0       4632.0           433.0   \n",
       "17923    -121.97     37.35                30.0       1955.0           433.0   \n",
       "13656    -117.30     34.05                 6.0       2155.0           433.0   \n",
       "19252    -122.79     38.48                 7.0       6837.0           433.0   \n",
       "\n",
       "       population  households  median_income ocean_proximity  \n",
       "4629       3296.0      1462.0         2.2708       <1H OCEAN  \n",
       "6068       3038.0       727.0         5.1762       <1H OCEAN  \n",
       "17923       999.0       386.0         4.6328       <1H OCEAN  \n",
       "13656      1039.0       391.0         1.6675          INLAND  \n",
       "19252      3468.0      1405.0         3.1662       <1H OCEAN  "
      ]
     },
     "execution_count": 39,
     "metadata": {},
     "output_type": "execute_result"
    }
   ],
   "source": [
    "sample_incomplete_rows"
   ]
  },
  {
   "cell_type": "code",
   "execution_count": 40,
   "metadata": {},
   "outputs": [],
   "source": [
    "from sklearn.impute import SimpleImputer\n",
    "imputer = SimpleImputer(strategy=\"median\")"
   ]
  },
  {
   "cell_type": "code",
   "execution_count": 41,
   "metadata": {},
   "outputs": [],
   "source": [
    "housing_num = housing.drop(\"ocean_proximity\", axis=1)"
   ]
  },
  {
   "cell_type": "code",
   "execution_count": 42,
   "metadata": {},
   "outputs": [
    {
     "data": {
      "text/plain": [
       "SimpleImputer(strategy='median')"
      ]
     },
     "execution_count": 42,
     "metadata": {},
     "output_type": "execute_result"
    }
   ],
   "source": [
    "imputer.fit(housing_num)"
   ]
  },
  {
   "cell_type": "code",
   "execution_count": 43,
   "metadata": {},
   "outputs": [
    {
     "data": {
      "text/plain": [
       "array([-118.51  ,   34.26  ,   29.    , 2119.5   ,  433.    , 1164.    ,\n",
       "        408.    ,    3.5409])"
      ]
     },
     "execution_count": 43,
     "metadata": {},
     "output_type": "execute_result"
    }
   ],
   "source": [
    "imputer.statistics_"
   ]
  },
  {
   "cell_type": "code",
   "execution_count": 44,
   "metadata": {},
   "outputs": [
    {
     "data": {
      "text/plain": [
       "array([-118.51  ,   34.26  ,   29.    , 2119.5   ,  433.    , 1164.    ,\n",
       "        408.    ,    3.5409])"
      ]
     },
     "execution_count": 44,
     "metadata": {},
     "output_type": "execute_result"
    }
   ],
   "source": [
    "housing_num.median().values"
   ]
  },
  {
   "cell_type": "code",
   "execution_count": 45,
   "metadata": {},
   "outputs": [],
   "source": [
    "X = imputer.transform(housing_num)"
   ]
  },
  {
   "cell_type": "code",
   "execution_count": 46,
   "metadata": {},
   "outputs": [],
   "source": [
    "housing_tr = pd.DataFrame(X, columns=housing_num.columns,\n",
    "                          index=housing.index)"
   ]
  },
  {
   "cell_type": "code",
   "execution_count": 47,
   "metadata": {},
   "outputs": [
    {
     "data": {
      "text/html": [
       "<div>\n",
       "<style scoped>\n",
       "    .dataframe tbody tr th:only-of-type {\n",
       "        vertical-align: middle;\n",
       "    }\n",
       "\n",
       "    .dataframe tbody tr th {\n",
       "        vertical-align: top;\n",
       "    }\n",
       "\n",
       "    .dataframe thead th {\n",
       "        text-align: right;\n",
       "    }\n",
       "</style>\n",
       "<table border=\"1\" class=\"dataframe\">\n",
       "  <thead>\n",
       "    <tr style=\"text-align: right;\">\n",
       "      <th></th>\n",
       "      <th>longitude</th>\n",
       "      <th>latitude</th>\n",
       "      <th>housing_median_age</th>\n",
       "      <th>total_rooms</th>\n",
       "      <th>total_bedrooms</th>\n",
       "      <th>population</th>\n",
       "      <th>households</th>\n",
       "      <th>median_income</th>\n",
       "    </tr>\n",
       "  </thead>\n",
       "  <tbody>\n",
       "    <tr>\n",
       "      <th>4629</th>\n",
       "      <td>-118.30</td>\n",
       "      <td>34.07</td>\n",
       "      <td>18.0</td>\n",
       "      <td>3759.0</td>\n",
       "      <td>433.0</td>\n",
       "      <td>3296.0</td>\n",
       "      <td>1462.0</td>\n",
       "      <td>2.2708</td>\n",
       "    </tr>\n",
       "    <tr>\n",
       "      <th>6068</th>\n",
       "      <td>-117.86</td>\n",
       "      <td>34.01</td>\n",
       "      <td>16.0</td>\n",
       "      <td>4632.0</td>\n",
       "      <td>433.0</td>\n",
       "      <td>3038.0</td>\n",
       "      <td>727.0</td>\n",
       "      <td>5.1762</td>\n",
       "    </tr>\n",
       "    <tr>\n",
       "      <th>17923</th>\n",
       "      <td>-121.97</td>\n",
       "      <td>37.35</td>\n",
       "      <td>30.0</td>\n",
       "      <td>1955.0</td>\n",
       "      <td>433.0</td>\n",
       "      <td>999.0</td>\n",
       "      <td>386.0</td>\n",
       "      <td>4.6328</td>\n",
       "    </tr>\n",
       "    <tr>\n",
       "      <th>13656</th>\n",
       "      <td>-117.30</td>\n",
       "      <td>34.05</td>\n",
       "      <td>6.0</td>\n",
       "      <td>2155.0</td>\n",
       "      <td>433.0</td>\n",
       "      <td>1039.0</td>\n",
       "      <td>391.0</td>\n",
       "      <td>1.6675</td>\n",
       "    </tr>\n",
       "    <tr>\n",
       "      <th>19252</th>\n",
       "      <td>-122.79</td>\n",
       "      <td>38.48</td>\n",
       "      <td>7.0</td>\n",
       "      <td>6837.0</td>\n",
       "      <td>433.0</td>\n",
       "      <td>3468.0</td>\n",
       "      <td>1405.0</td>\n",
       "      <td>3.1662</td>\n",
       "    </tr>\n",
       "  </tbody>\n",
       "</table>\n",
       "</div>"
      ],
      "text/plain": [
       "       longitude  latitude  housing_median_age  total_rooms  total_bedrooms  \\\n",
       "4629     -118.30     34.07                18.0       3759.0           433.0   \n",
       "6068     -117.86     34.01                16.0       4632.0           433.0   \n",
       "17923    -121.97     37.35                30.0       1955.0           433.0   \n",
       "13656    -117.30     34.05                 6.0       2155.0           433.0   \n",
       "19252    -122.79     38.48                 7.0       6837.0           433.0   \n",
       "\n",
       "       population  households  median_income  \n",
       "4629       3296.0      1462.0         2.2708  \n",
       "6068       3038.0       727.0         5.1762  \n",
       "17923       999.0       386.0         4.6328  \n",
       "13656      1039.0       391.0         1.6675  \n",
       "19252      3468.0      1405.0         3.1662  "
      ]
     },
     "execution_count": 47,
     "metadata": {},
     "output_type": "execute_result"
    }
   ],
   "source": [
    "housing_tr.loc[sample_incomplete_rows.index.values]"
   ]
  },
  {
   "cell_type": "code",
   "execution_count": 48,
   "metadata": {},
   "outputs": [],
   "source": [
    "housing_cat = housing[[\"ocean_proximity\"]]"
   ]
  },
  {
   "cell_type": "code",
   "execution_count": 49,
   "metadata": {},
   "outputs": [
    {
     "data": {
      "text/html": [
       "<div>\n",
       "<style scoped>\n",
       "    .dataframe tbody tr th:only-of-type {\n",
       "        vertical-align: middle;\n",
       "    }\n",
       "\n",
       "    .dataframe tbody tr th {\n",
       "        vertical-align: top;\n",
       "    }\n",
       "\n",
       "    .dataframe thead th {\n",
       "        text-align: right;\n",
       "    }\n",
       "</style>\n",
       "<table border=\"1\" class=\"dataframe\">\n",
       "  <thead>\n",
       "    <tr style=\"text-align: right;\">\n",
       "      <th></th>\n",
       "      <th>ocean_proximity</th>\n",
       "    </tr>\n",
       "  </thead>\n",
       "  <tbody>\n",
       "    <tr>\n",
       "      <th>17606</th>\n",
       "      <td>&lt;1H OCEAN</td>\n",
       "    </tr>\n",
       "    <tr>\n",
       "      <th>18632</th>\n",
       "      <td>&lt;1H OCEAN</td>\n",
       "    </tr>\n",
       "    <tr>\n",
       "      <th>14650</th>\n",
       "      <td>NEAR OCEAN</td>\n",
       "    </tr>\n",
       "    <tr>\n",
       "      <th>3230</th>\n",
       "      <td>INLAND</td>\n",
       "    </tr>\n",
       "    <tr>\n",
       "      <th>3555</th>\n",
       "      <td>&lt;1H OCEAN</td>\n",
       "    </tr>\n",
       "    <tr>\n",
       "      <th>19480</th>\n",
       "      <td>INLAND</td>\n",
       "    </tr>\n",
       "    <tr>\n",
       "      <th>8879</th>\n",
       "      <td>&lt;1H OCEAN</td>\n",
       "    </tr>\n",
       "    <tr>\n",
       "      <th>13685</th>\n",
       "      <td>INLAND</td>\n",
       "    </tr>\n",
       "    <tr>\n",
       "      <th>4937</th>\n",
       "      <td>&lt;1H OCEAN</td>\n",
       "    </tr>\n",
       "    <tr>\n",
       "      <th>4861</th>\n",
       "      <td>&lt;1H OCEAN</td>\n",
       "    </tr>\n",
       "  </tbody>\n",
       "</table>\n",
       "</div>"
      ],
      "text/plain": [
       "      ocean_proximity\n",
       "17606       <1H OCEAN\n",
       "18632       <1H OCEAN\n",
       "14650      NEAR OCEAN\n",
       "3230           INLAND\n",
       "3555        <1H OCEAN\n",
       "19480          INLAND\n",
       "8879        <1H OCEAN\n",
       "13685          INLAND\n",
       "4937        <1H OCEAN\n",
       "4861        <1H OCEAN"
      ]
     },
     "execution_count": 49,
     "metadata": {},
     "output_type": "execute_result"
    }
   ],
   "source": [
    "housing_cat.head(10)"
   ]
  },
  {
   "cell_type": "code",
   "execution_count": 50,
   "metadata": {},
   "outputs": [
    {
     "data": {
      "text/plain": [
       "array([[0.],\n",
       "       [0.],\n",
       "       [4.],\n",
       "       [1.],\n",
       "       [0.],\n",
       "       [1.],\n",
       "       [0.],\n",
       "       [1.],\n",
       "       [0.],\n",
       "       [0.]])"
      ]
     },
     "execution_count": 50,
     "metadata": {},
     "output_type": "execute_result"
    }
   ],
   "source": [
    "from sklearn.preprocessing import OrdinalEncoder\n",
    "\n",
    "ordinal_encoder = OrdinalEncoder()\n",
    "housing_cat_encoded = ordinal_encoder.fit_transform(housing_cat)\n",
    "housing_cat_encoded[:10]"
   ]
  },
  {
   "cell_type": "code",
   "execution_count": 51,
   "metadata": {},
   "outputs": [
    {
     "data": {
      "text/plain": [
       "[array(['<1H OCEAN', 'INLAND', 'ISLAND', 'NEAR BAY', 'NEAR OCEAN'],\n",
       "       dtype=object)]"
      ]
     },
     "execution_count": 51,
     "metadata": {},
     "output_type": "execute_result"
    }
   ],
   "source": [
    "ordinal_encoder.categories_"
   ]
  },
  {
   "cell_type": "code",
   "execution_count": 52,
   "metadata": {},
   "outputs": [
    {
     "data": {
      "text/plain": [
       "<16512x5 sparse matrix of type '<class 'numpy.float64'>'\n",
       "\twith 16512 stored elements in Compressed Sparse Row format>"
      ]
     },
     "execution_count": 52,
     "metadata": {},
     "output_type": "execute_result"
    }
   ],
   "source": [
    "from sklearn.preprocessing import OneHotEncoder\n",
    "\n",
    "cat_encoder = OneHotEncoder()\n",
    "housing_cat_1hot = cat_encoder.fit_transform(housing_cat)\n",
    "housing_cat_1hot"
   ]
  },
  {
   "cell_type": "code",
   "execution_count": 53,
   "metadata": {},
   "outputs": [
    {
     "data": {
      "text/plain": [
       "array([[1., 0., 0., 0., 0.],\n",
       "       [1., 0., 0., 0., 0.],\n",
       "       [0., 0., 0., 0., 1.],\n",
       "       ...,\n",
       "       [0., 1., 0., 0., 0.],\n",
       "       [1., 0., 0., 0., 0.],\n",
       "       [0., 0., 0., 1., 0.]])"
      ]
     },
     "execution_count": 53,
     "metadata": {},
     "output_type": "execute_result"
    }
   ],
   "source": [
    "housing_cat_1hot.toarray()"
   ]
  },
  {
   "cell_type": "code",
   "execution_count": 54,
   "metadata": {},
   "outputs": [
    {
     "data": {
      "text/plain": [
       "[array(['<1H OCEAN', 'INLAND', 'ISLAND', 'NEAR BAY', 'NEAR OCEAN'],\n",
       "       dtype=object)]"
      ]
     },
     "execution_count": 54,
     "metadata": {},
     "output_type": "execute_result"
    }
   ],
   "source": [
    "cat_encoder.categories_"
   ]
  },
  {
   "cell_type": "code",
   "execution_count": 55,
   "metadata": {},
   "outputs": [],
   "source": [
    "from sklearn.base import BaseEstimator, TransformerMixin\n",
    "\n",
    "rooms_ix, bedrooms_ix, population_ix, households_ix = 3, 4, 5, 6\n",
    "\n",
    "class CombinedAttributesAdder(BaseEstimator, TransformerMixin):\n",
    "    def __init__(self, add_bedrooms_per_room = True): # no *args or **kargs\n",
    "        self.add_bedrooms_per_room = add_bedrooms_per_room\n",
    "    def fit(self, X, y=None):\n",
    "        return self  # nothing else to do\n",
    "    def transform(self, X):\n",
    "        rooms_per_household = X[:, rooms_ix] / X[:, households_ix]\n",
    "        population_per_household = X[:, population_ix] / X[:, households_ix]\n",
    "        if self.add_bedrooms_per_room:\n",
    "            bedrooms_per_room = X[:, bedrooms_ix] / X[:, rooms_ix]\n",
    "            return np.c_[X, rooms_per_household, population_per_household,\n",
    "                         bedrooms_per_room]\n",
    "        else:\n",
    "            return np.c_[X, rooms_per_household, population_per_household]\n",
    "\n",
    "attr_adder = CombinedAttributesAdder(add_bedrooms_per_room=False)\n",
    "housing_extra_attribs = attr_adder.transform(housing.values)"
   ]
  },
  {
   "cell_type": "code",
   "execution_count": 56,
   "metadata": {},
   "outputs": [],
   "source": [
    "from sklearn.pipeline import Pipeline\n",
    "from sklearn.preprocessing import StandardScaler\n",
    "\n",
    "num_pipeline = Pipeline([\n",
    "        ('imputer', SimpleImputer(strategy=\"median\")),\n",
    "        ('attribs_adder', CombinedAttributesAdder()),\n",
    "        ('std_scaler', StandardScaler()),\n",
    "    ])\n",
    "\n",
    "housing_num_tr = num_pipeline.fit_transform(housing_num)"
   ]
  },
  {
   "cell_type": "code",
   "execution_count": 57,
   "metadata": {},
   "outputs": [],
   "source": [
    "from sklearn.compose import ColumnTransformer\n",
    "\n",
    "num_attribs = list(housing_num)\n",
    "cat_attribs = [\"ocean_proximity\"]\n",
    "\n",
    "full_pipeline = ColumnTransformer([\n",
    "        (\"num\", num_pipeline, num_attribs),\n",
    "        (\"cat\", OneHotEncoder(), cat_attribs),\n",
    "    ])\n",
    "\n",
    "housing_prepared = full_pipeline.fit_transform(housing)"
   ]
  },
  {
   "cell_type": "code",
   "execution_count": 58,
   "metadata": {},
   "outputs": [],
   "source": [
    "from sklearn.base import BaseEstimator, TransformerMixin\n",
    "\n",
    "# Create a class to select numerical or categorical columns \n",
    "class OldDataFrameSelector(BaseEstimator, TransformerMixin):\n",
    "    def __init__(self, attribute_names):\n",
    "        self.attribute_names = attribute_names\n",
    "    def fit(self, X, y=None):\n",
    "        return self\n",
    "    def transform(self, X):\n",
    "        return X[self.attribute_names].values"
   ]
  },
  {
   "cell_type": "code",
   "execution_count": 59,
   "metadata": {},
   "outputs": [],
   "source": [
    "num_attribs = list(housing_num)\n",
    "cat_attribs = [\"ocean_proximity\"]\n",
    "\n",
    "old_num_pipeline = Pipeline([\n",
    "        ('selector', OldDataFrameSelector(num_attribs)),\n",
    "        ('imputer', SimpleImputer(strategy=\"median\")),\n",
    "        ('attribs_adder', CombinedAttributesAdder()),\n",
    "        ('std_scaler', StandardScaler()),\n",
    "    ])\n",
    "\n",
    "old_cat_pipeline = Pipeline([\n",
    "        ('selector', OldDataFrameSelector(cat_attribs)),\n",
    "        ('cat_encoder', OneHotEncoder(sparse=False)),\n",
    "    ])"
   ]
  },
  {
   "cell_type": "code",
   "execution_count": 60,
   "metadata": {},
   "outputs": [],
   "source": [
    "from sklearn.pipeline import FeatureUnion\n",
    "\n",
    "old_full_pipeline = FeatureUnion(transformer_list=[\n",
    "        (\"num_pipeline\", old_num_pipeline),\n",
    "        (\"cat_pipeline\", old_cat_pipeline),\n",
    "    ])"
   ]
  },
  {
   "cell_type": "code",
   "execution_count": 61,
   "metadata": {},
   "outputs": [
    {
     "data": {
      "text/plain": [
       "array([[-1.15604281,  0.77194962,  0.74333089, ...,  0.        ,\n",
       "         0.        ,  0.        ],\n",
       "       [-1.17602483,  0.6596948 , -1.1653172 , ...,  0.        ,\n",
       "         0.        ,  0.        ],\n",
       "       [ 1.18684903, -1.34218285,  0.18664186, ...,  0.        ,\n",
       "         0.        ,  1.        ],\n",
       "       ...,\n",
       "       [ 1.58648943, -0.72478134, -1.56295222, ...,  0.        ,\n",
       "         0.        ,  0.        ],\n",
       "       [ 0.78221312, -0.85106801,  0.18664186, ...,  0.        ,\n",
       "         0.        ,  0.        ],\n",
       "       [-1.43579109,  0.99645926,  1.85670895, ...,  0.        ,\n",
       "         1.        ,  0.        ]])"
      ]
     },
     "execution_count": 61,
     "metadata": {},
     "output_type": "execute_result"
    }
   ],
   "source": [
    "old_housing_prepared = old_full_pipeline.fit_transform(housing)\n",
    "old_housing_prepared"
   ]
  },
  {
   "cell_type": "code",
   "execution_count": 62,
   "metadata": {},
   "outputs": [
    {
     "data": {
      "text/plain": [
       "True"
      ]
     },
     "execution_count": 62,
     "metadata": {},
     "output_type": "execute_result"
    }
   ],
   "source": [
    "np.allclose(housing_prepared, old_housing_prepared)"
   ]
  },
  {
   "cell_type": "code",
   "execution_count": 63,
   "metadata": {},
   "outputs": [
    {
     "data": {
      "text/plain": [
       "LinearRegression()"
      ]
     },
     "execution_count": 63,
     "metadata": {},
     "output_type": "execute_result"
    }
   ],
   "source": [
    "from sklearn.linear_model import LinearRegression\n",
    "\n",
    "lin_reg = LinearRegression()\n",
    "lin_reg.fit(housing_prepared, housing_labels)"
   ]
  },
  {
   "cell_type": "code",
   "execution_count": 64,
   "metadata": {},
   "outputs": [
    {
     "name": "stdout",
     "output_type": "stream",
     "text": [
      "Predictions: [210644.60459286 317768.80697211 210956.43331178  59218.98886849\n",
      " 189747.55849879]\n"
     ]
    }
   ],
   "source": [
    "some_data = housing.iloc[:5]\n",
    "some_labels = housing_labels.iloc[:5]\n",
    "some_data_prepared = full_pipeline.transform(some_data)\n",
    "\n",
    "print(\"Predictions:\", lin_reg.predict(some_data_prepared))"
   ]
  },
  {
   "cell_type": "code",
   "execution_count": 65,
   "metadata": {},
   "outputs": [
    {
     "name": "stdout",
     "output_type": "stream",
     "text": [
      "Labels: [286600.0, 340600.0, 196900.0, 46300.0, 254500.0]\n"
     ]
    }
   ],
   "source": [
    "print(\"Labels:\", list(some_labels))"
   ]
  },
  {
   "cell_type": "code",
   "execution_count": 66,
   "metadata": {},
   "outputs": [
    {
     "data": {
      "text/plain": [
       "array([[-1.15604281,  0.77194962,  0.74333089, -0.49323393, -0.44543821,\n",
       "        -0.63621141, -0.42069842, -0.61493744, -0.31205452, -0.08649871,\n",
       "         0.15531753,  1.        ,  0.        ,  0.        ,  0.        ,\n",
       "         0.        ],\n",
       "       [-1.17602483,  0.6596948 , -1.1653172 , -0.90896655, -1.0369278 ,\n",
       "        -0.99833135, -1.02222705,  1.33645936,  0.21768338, -0.03353391,\n",
       "        -0.83628902,  1.        ,  0.        ,  0.        ,  0.        ,\n",
       "         0.        ],\n",
       "       [ 1.18684903, -1.34218285,  0.18664186, -0.31365989, -0.15334458,\n",
       "        -0.43363936, -0.0933178 , -0.5320456 , -0.46531516, -0.09240499,\n",
       "         0.4222004 ,  0.        ,  0.        ,  0.        ,  0.        ,\n",
       "         1.        ],\n",
       "       [-0.01706767,  0.31357576, -0.29052016, -0.36276217, -0.39675594,\n",
       "         0.03604096, -0.38343559, -1.04556555, -0.07966124,  0.08973561,\n",
       "        -0.19645314,  0.        ,  1.        ,  0.        ,  0.        ,\n",
       "         0.        ],\n",
       "       [ 0.49247384, -0.65929936, -0.92673619,  1.85619316,  2.41221109,\n",
       "         2.72415407,  2.57097492, -0.44143679, -0.35783383, -0.00419445,\n",
       "         0.2699277 ,  1.        ,  0.        ,  0.        ,  0.        ,\n",
       "         0.        ]])"
      ]
     },
     "execution_count": 66,
     "metadata": {},
     "output_type": "execute_result"
    }
   ],
   "source": [
    "some_data_prepared"
   ]
  },
  {
   "cell_type": "code",
   "execution_count": 67,
   "metadata": {},
   "outputs": [
    {
     "data": {
      "text/plain": [
       "68628.19819848922"
      ]
     },
     "execution_count": 67,
     "metadata": {},
     "output_type": "execute_result"
    }
   ],
   "source": [
    "from sklearn.metrics import mean_squared_error\n",
    "\n",
    "housing_predictions = lin_reg.predict(housing_prepared)\n",
    "lin_mse = mean_squared_error(housing_labels, housing_predictions)\n",
    "lin_rmse = np.sqrt(lin_mse)\n",
    "lin_rmse"
   ]
  },
  {
   "cell_type": "code",
   "execution_count": 68,
   "metadata": {},
   "outputs": [
    {
     "data": {
      "text/plain": [
       "49439.89599001897"
      ]
     },
     "execution_count": 68,
     "metadata": {},
     "output_type": "execute_result"
    }
   ],
   "source": [
    "from sklearn.metrics import mean_absolute_error\n",
    "\n",
    "lin_mae = mean_absolute_error(housing_labels, housing_predictions)\n",
    "lin_mae"
   ]
  },
  {
   "cell_type": "code",
   "execution_count": 69,
   "metadata": {},
   "outputs": [
    {
     "data": {
      "text/plain": [
       "DecisionTreeRegressor(random_state=42)"
      ]
     },
     "execution_count": 69,
     "metadata": {},
     "output_type": "execute_result"
    }
   ],
   "source": [
    "from sklearn.tree import DecisionTreeRegressor\n",
    "\n",
    "tree_reg = DecisionTreeRegressor(random_state=42)\n",
    "tree_reg.fit(housing_prepared, housing_labels)"
   ]
  },
  {
   "cell_type": "code",
   "execution_count": 70,
   "metadata": {},
   "outputs": [
    {
     "data": {
      "text/plain": [
       "0.0"
      ]
     },
     "execution_count": 70,
     "metadata": {},
     "output_type": "execute_result"
    }
   ],
   "source": [
    "housing_predictions = tree_reg.predict(housing_prepared)\n",
    "tree_mse = mean_squared_error(housing_labels, housing_predictions)\n",
    "tree_rmse = np.sqrt(tree_mse)\n",
    "tree_rmse"
   ]
  },
  {
   "cell_type": "code",
   "execution_count": 71,
   "metadata": {},
   "outputs": [],
   "source": [
    "from sklearn.model_selection import cross_val_score\n",
    "\n",
    "scores = cross_val_score(tree_reg, housing_prepared, housing_labels,\n",
    "                         scoring=\"neg_mean_squared_error\", cv=10)\n",
    "tree_rmse_scores = np.sqrt(-scores)"
   ]
  },
  {
   "cell_type": "code",
   "execution_count": 72,
   "metadata": {},
   "outputs": [
    {
     "name": "stdout",
     "output_type": "stream",
     "text": [
      "Scores: [70194.33680785 66855.16363941 72432.58244769 70758.73896782\n",
      " 71115.88230639 75585.14172901 70262.86139133 70273.6325285\n",
      " 75366.87952553 71231.65726027]\n",
      "Mean: 71407.68766037929\n",
      "Standard deviation: 2439.4345041191004\n"
     ]
    }
   ],
   "source": [
    "def display_scores(scores):\n",
    "    print(\"Scores:\", scores)\n",
    "    print(\"Mean:\", scores.mean())\n",
    "    print(\"Standard deviation:\", scores.std())\n",
    "\n",
    "display_scores(tree_rmse_scores)"
   ]
  },
  {
   "cell_type": "code",
   "execution_count": 73,
   "metadata": {},
   "outputs": [
    {
     "name": "stdout",
     "output_type": "stream",
     "text": [
      "Scores: [66782.73843989 66960.118071   70347.95244419 74739.57052552\n",
      " 68031.13388938 71193.84183426 64969.63056405 68281.61137997\n",
      " 71552.91566558 67665.10082067]\n",
      "Mean: 69052.46136345083\n",
      "Standard deviation: 2731.674001798348\n"
     ]
    }
   ],
   "source": [
    "lin_scores = cross_val_score(lin_reg, housing_prepared, housing_labels,\n",
    "                             scoring=\"neg_mean_squared_error\", cv=10)\n",
    "lin_rmse_scores = np.sqrt(-lin_scores)\n",
    "display_scores(lin_rmse_scores)"
   ]
  },
  {
   "cell_type": "code",
   "execution_count": 74,
   "metadata": {},
   "outputs": [
    {
     "data": {
      "text/plain": [
       "RandomForestRegressor(random_state=42)"
      ]
     },
     "execution_count": 74,
     "metadata": {},
     "output_type": "execute_result"
    }
   ],
   "source": [
    "from sklearn.ensemble import RandomForestRegressor\n",
    "\n",
    "forest_reg = RandomForestRegressor(n_estimators=100, random_state=42)\n",
    "forest_reg.fit(housing_prepared, housing_labels)"
   ]
  },
  {
   "cell_type": "code",
   "execution_count": 75,
   "metadata": {},
   "outputs": [
    {
     "data": {
      "text/plain": [
       "18603.515021376355"
      ]
     },
     "execution_count": 75,
     "metadata": {},
     "output_type": "execute_result"
    }
   ],
   "source": [
    "housing_predictions = forest_reg.predict(housing_prepared)\n",
    "forest_mse = mean_squared_error(housing_labels, housing_predictions)\n",
    "forest_rmse = np.sqrt(forest_mse)\n",
    "forest_rmse"
   ]
  },
  {
   "cell_type": "code",
   "execution_count": 76,
   "metadata": {},
   "outputs": [
    {
     "name": "stdout",
     "output_type": "stream",
     "text": [
      "Scores: [49519.80364233 47461.9115823  50029.02762854 52325.28068953\n",
      " 49308.39426421 53446.37892622 48634.8036574  47585.73832311\n",
      " 53490.10699751 50021.5852922 ]\n",
      "Mean: 50182.303100336096\n",
      "Standard deviation: 2097.0810550985693\n"
     ]
    }
   ],
   "source": [
    "from sklearn.model_selection import cross_val_score\n",
    "\n",
    "forest_scores = cross_val_score(forest_reg, housing_prepared, housing_labels,\n",
    "                                scoring=\"neg_mean_squared_error\", cv=10)\n",
    "forest_rmse_scores = np.sqrt(-forest_scores)\n",
    "display_scores(forest_rmse_scores)"
   ]
  },
  {
   "cell_type": "code",
   "execution_count": 77,
   "metadata": {},
   "outputs": [
    {
     "data": {
      "text/plain": [
       "111094.6308539982"
      ]
     },
     "execution_count": 77,
     "metadata": {},
     "output_type": "execute_result"
    }
   ],
   "source": [
    "from sklearn.svm import SVR\n",
    "\n",
    "svm_reg = SVR(kernel=\"linear\")\n",
    "svm_reg.fit(housing_prepared, housing_labels)\n",
    "housing_predictions = svm_reg.predict(housing_prepared)\n",
    "svm_mse = mean_squared_error(housing_labels, housing_predictions)\n",
    "svm_rmse = np.sqrt(svm_mse)\n",
    "svm_rmse"
   ]
  },
  {
   "cell_type": "code",
   "execution_count": 78,
   "metadata": {},
   "outputs": [
    {
     "data": {
      "text/plain": [
       "GridSearchCV(cv=5, estimator=RandomForestRegressor(random_state=42),\n",
       "             param_grid=[{'max_features': [2, 4, 6, 8],\n",
       "                          'n_estimators': [3, 10, 30]},\n",
       "                         {'bootstrap': [False], 'max_features': [2, 3, 4],\n",
       "                          'n_estimators': [3, 10]}],\n",
       "             return_train_score=True, scoring='neg_mean_squared_error')"
      ]
     },
     "execution_count": 78,
     "metadata": {},
     "output_type": "execute_result"
    }
   ],
   "source": [
    "from sklearn.model_selection import GridSearchCV\n",
    "\n",
    "param_grid = [\n",
    "    \n",
    "    {'n_estimators': [3, 10, 30], 'max_features': [2, 4, 6, 8]},\n",
    "    \n",
    "    {'bootstrap': [False], 'n_estimators': [3, 10], 'max_features': [2, 3, 4]},\n",
    "  ]\n",
    "\n",
    "forest_reg = RandomForestRegressor(random_state=42)\n",
    "\n",
    "grid_search = GridSearchCV(forest_reg, param_grid, cv=5,\n",
    "                           scoring='neg_mean_squared_error',\n",
    "                           return_train_score=True)\n",
    "grid_search.fit(housing_prepared, housing_labels)"
   ]
  },
  {
   "cell_type": "code",
   "execution_count": 79,
   "metadata": {},
   "outputs": [
    {
     "data": {
      "text/plain": [
       "{'max_features': 8, 'n_estimators': 30}"
      ]
     },
     "execution_count": 79,
     "metadata": {},
     "output_type": "execute_result"
    }
   ],
   "source": [
    "grid_search.best_params_"
   ]
  },
  {
   "cell_type": "code",
   "execution_count": 80,
   "metadata": {},
   "outputs": [
    {
     "data": {
      "text/plain": [
       "RandomForestRegressor(max_features=8, n_estimators=30, random_state=42)"
      ]
     },
     "execution_count": 80,
     "metadata": {},
     "output_type": "execute_result"
    }
   ],
   "source": [
    "grid_search.best_estimator_"
   ]
  },
  {
   "cell_type": "code",
   "execution_count": 81,
   "metadata": {},
   "outputs": [
    {
     "name": "stdout",
     "output_type": "stream",
     "text": [
      "63669.11631261028 {'max_features': 2, 'n_estimators': 3}\n",
      "55627.099719926795 {'max_features': 2, 'n_estimators': 10}\n",
      "53384.57275149205 {'max_features': 2, 'n_estimators': 30}\n",
      "60965.950449450494 {'max_features': 4, 'n_estimators': 3}\n",
      "52741.04704299915 {'max_features': 4, 'n_estimators': 10}\n",
      "50377.40461678399 {'max_features': 4, 'n_estimators': 30}\n",
      "58663.93866579625 {'max_features': 6, 'n_estimators': 3}\n",
      "52006.19873526564 {'max_features': 6, 'n_estimators': 10}\n",
      "50146.51167415009 {'max_features': 6, 'n_estimators': 30}\n",
      "57869.25276169646 {'max_features': 8, 'n_estimators': 3}\n",
      "51711.127883959234 {'max_features': 8, 'n_estimators': 10}\n",
      "49682.273345071546 {'max_features': 8, 'n_estimators': 30}\n",
      "62895.06951262424 {'bootstrap': False, 'max_features': 2, 'n_estimators': 3}\n",
      "54658.176157539405 {'bootstrap': False, 'max_features': 2, 'n_estimators': 10}\n",
      "59470.40652318466 {'bootstrap': False, 'max_features': 3, 'n_estimators': 3}\n",
      "52724.9822587892 {'bootstrap': False, 'max_features': 3, 'n_estimators': 10}\n",
      "57490.5691951261 {'bootstrap': False, 'max_features': 4, 'n_estimators': 3}\n",
      "51009.495668875716 {'bootstrap': False, 'max_features': 4, 'n_estimators': 10}\n"
     ]
    }
   ],
   "source": [
    "cvres = grid_search.cv_results_\n",
    "for mean_score, params in zip(cvres[\"mean_test_score\"], cvres[\"params\"]):\n",
    "    print(np.sqrt(-mean_score), params)"
   ]
  },
  {
   "cell_type": "code",
   "execution_count": 82,
   "metadata": {},
   "outputs": [
    {
     "data": {
      "text/html": [
       "<div>\n",
       "<style scoped>\n",
       "    .dataframe tbody tr th:only-of-type {\n",
       "        vertical-align: middle;\n",
       "    }\n",
       "\n",
       "    .dataframe tbody tr th {\n",
       "        vertical-align: top;\n",
       "    }\n",
       "\n",
       "    .dataframe thead th {\n",
       "        text-align: right;\n",
       "    }\n",
       "</style>\n",
       "<table border=\"1\" class=\"dataframe\">\n",
       "  <thead>\n",
       "    <tr style=\"text-align: right;\">\n",
       "      <th></th>\n",
       "      <th>mean_fit_time</th>\n",
       "      <th>std_fit_time</th>\n",
       "      <th>mean_score_time</th>\n",
       "      <th>std_score_time</th>\n",
       "      <th>param_max_features</th>\n",
       "      <th>param_n_estimators</th>\n",
       "      <th>param_bootstrap</th>\n",
       "      <th>params</th>\n",
       "      <th>split0_test_score</th>\n",
       "      <th>split1_test_score</th>\n",
       "      <th>...</th>\n",
       "      <th>mean_test_score</th>\n",
       "      <th>std_test_score</th>\n",
       "      <th>rank_test_score</th>\n",
       "      <th>split0_train_score</th>\n",
       "      <th>split1_train_score</th>\n",
       "      <th>split2_train_score</th>\n",
       "      <th>split3_train_score</th>\n",
       "      <th>split4_train_score</th>\n",
       "      <th>mean_train_score</th>\n",
       "      <th>std_train_score</th>\n",
       "    </tr>\n",
       "  </thead>\n",
       "  <tbody>\n",
       "    <tr>\n",
       "      <th>0</th>\n",
       "      <td>0.048363</td>\n",
       "      <td>0.003711</td>\n",
       "      <td>0.002295</td>\n",
       "      <td>0.000346</td>\n",
       "      <td>2</td>\n",
       "      <td>3</td>\n",
       "      <td>NaN</td>\n",
       "      <td>{'max_features': 2, 'n_estimators': 3}</td>\n",
       "      <td>-3.837622e+09</td>\n",
       "      <td>-4.147108e+09</td>\n",
       "      <td>...</td>\n",
       "      <td>-4.053756e+09</td>\n",
       "      <td>1.519591e+08</td>\n",
       "      <td>18</td>\n",
       "      <td>-1.064113e+09</td>\n",
       "      <td>-1.105142e+09</td>\n",
       "      <td>-1.116550e+09</td>\n",
       "      <td>-1.112342e+09</td>\n",
       "      <td>-1.129650e+09</td>\n",
       "      <td>-1.105559e+09</td>\n",
       "      <td>2.220402e+07</td>\n",
       "    </tr>\n",
       "    <tr>\n",
       "      <th>1</th>\n",
       "      <td>0.162401</td>\n",
       "      <td>0.018069</td>\n",
       "      <td>0.008621</td>\n",
       "      <td>0.002886</td>\n",
       "      <td>2</td>\n",
       "      <td>10</td>\n",
       "      <td>NaN</td>\n",
       "      <td>{'max_features': 2, 'n_estimators': 10}</td>\n",
       "      <td>-3.047771e+09</td>\n",
       "      <td>-3.254861e+09</td>\n",
       "      <td>...</td>\n",
       "      <td>-3.094374e+09</td>\n",
       "      <td>1.327062e+08</td>\n",
       "      <td>11</td>\n",
       "      <td>-5.927175e+08</td>\n",
       "      <td>-5.870952e+08</td>\n",
       "      <td>-5.776964e+08</td>\n",
       "      <td>-5.716332e+08</td>\n",
       "      <td>-5.802501e+08</td>\n",
       "      <td>-5.818785e+08</td>\n",
       "      <td>7.345821e+06</td>\n",
       "    </tr>\n",
       "    <tr>\n",
       "      <th>2</th>\n",
       "      <td>0.515648</td>\n",
       "      <td>0.092406</td>\n",
       "      <td>0.018599</td>\n",
       "      <td>0.000726</td>\n",
       "      <td>2</td>\n",
       "      <td>30</td>\n",
       "      <td>NaN</td>\n",
       "      <td>{'max_features': 2, 'n_estimators': 30}</td>\n",
       "      <td>-2.689185e+09</td>\n",
       "      <td>-3.021086e+09</td>\n",
       "      <td>...</td>\n",
       "      <td>-2.849913e+09</td>\n",
       "      <td>1.626875e+08</td>\n",
       "      <td>9</td>\n",
       "      <td>-4.381089e+08</td>\n",
       "      <td>-4.391272e+08</td>\n",
       "      <td>-4.371702e+08</td>\n",
       "      <td>-4.376955e+08</td>\n",
       "      <td>-4.452654e+08</td>\n",
       "      <td>-4.394734e+08</td>\n",
       "      <td>2.966320e+06</td>\n",
       "    </tr>\n",
       "    <tr>\n",
       "      <th>3</th>\n",
       "      <td>0.076782</td>\n",
       "      <td>0.002274</td>\n",
       "      <td>0.002074</td>\n",
       "      <td>0.000092</td>\n",
       "      <td>4</td>\n",
       "      <td>3</td>\n",
       "      <td>NaN</td>\n",
       "      <td>{'max_features': 4, 'n_estimators': 3}</td>\n",
       "      <td>-3.730181e+09</td>\n",
       "      <td>-3.786886e+09</td>\n",
       "      <td>...</td>\n",
       "      <td>-3.716847e+09</td>\n",
       "      <td>1.631510e+08</td>\n",
       "      <td>16</td>\n",
       "      <td>-9.865163e+08</td>\n",
       "      <td>-1.012565e+09</td>\n",
       "      <td>-9.169425e+08</td>\n",
       "      <td>-1.037400e+09</td>\n",
       "      <td>-9.707739e+08</td>\n",
       "      <td>-9.848396e+08</td>\n",
       "      <td>4.084607e+07</td>\n",
       "    </tr>\n",
       "    <tr>\n",
       "      <th>4</th>\n",
       "      <td>0.303103</td>\n",
       "      <td>0.017707</td>\n",
       "      <td>0.007924</td>\n",
       "      <td>0.001102</td>\n",
       "      <td>4</td>\n",
       "      <td>10</td>\n",
       "      <td>NaN</td>\n",
       "      <td>{'max_features': 4, 'n_estimators': 10}</td>\n",
       "      <td>-2.666283e+09</td>\n",
       "      <td>-2.784511e+09</td>\n",
       "      <td>...</td>\n",
       "      <td>-2.781618e+09</td>\n",
       "      <td>1.268607e+08</td>\n",
       "      <td>8</td>\n",
       "      <td>-5.097115e+08</td>\n",
       "      <td>-5.162820e+08</td>\n",
       "      <td>-4.962893e+08</td>\n",
       "      <td>-5.436192e+08</td>\n",
       "      <td>-5.160297e+08</td>\n",
       "      <td>-5.163863e+08</td>\n",
       "      <td>1.542862e+07</td>\n",
       "    </tr>\n",
       "    <tr>\n",
       "      <th>5</th>\n",
       "      <td>0.757576</td>\n",
       "      <td>0.030469</td>\n",
       "      <td>0.018569</td>\n",
       "      <td>0.000528</td>\n",
       "      <td>4</td>\n",
       "      <td>30</td>\n",
       "      <td>NaN</td>\n",
       "      <td>{'max_features': 4, 'n_estimators': 30}</td>\n",
       "      <td>-2.387153e+09</td>\n",
       "      <td>-2.588448e+09</td>\n",
       "      <td>...</td>\n",
       "      <td>-2.537883e+09</td>\n",
       "      <td>1.214614e+08</td>\n",
       "      <td>3</td>\n",
       "      <td>-3.838835e+08</td>\n",
       "      <td>-3.880268e+08</td>\n",
       "      <td>-3.790867e+08</td>\n",
       "      <td>-4.040957e+08</td>\n",
       "      <td>-3.845520e+08</td>\n",
       "      <td>-3.879289e+08</td>\n",
       "      <td>8.571233e+06</td>\n",
       "    </tr>\n",
       "    <tr>\n",
       "      <th>6</th>\n",
       "      <td>0.104825</td>\n",
       "      <td>0.003678</td>\n",
       "      <td>0.002076</td>\n",
       "      <td>0.000077</td>\n",
       "      <td>6</td>\n",
       "      <td>3</td>\n",
       "      <td>NaN</td>\n",
       "      <td>{'max_features': 6, 'n_estimators': 3}</td>\n",
       "      <td>-3.119657e+09</td>\n",
       "      <td>-3.586319e+09</td>\n",
       "      <td>...</td>\n",
       "      <td>-3.441458e+09</td>\n",
       "      <td>1.893056e+08</td>\n",
       "      <td>14</td>\n",
       "      <td>-9.245343e+08</td>\n",
       "      <td>-8.886939e+08</td>\n",
       "      <td>-9.353135e+08</td>\n",
       "      <td>-9.009801e+08</td>\n",
       "      <td>-8.624664e+08</td>\n",
       "      <td>-9.023976e+08</td>\n",
       "      <td>2.591445e+07</td>\n",
       "    </tr>\n",
       "    <tr>\n",
       "      <th>7</th>\n",
       "      <td>0.413338</td>\n",
       "      <td>0.071890</td>\n",
       "      <td>0.008415</td>\n",
       "      <td>0.003138</td>\n",
       "      <td>6</td>\n",
       "      <td>10</td>\n",
       "      <td>NaN</td>\n",
       "      <td>{'max_features': 6, 'n_estimators': 10}</td>\n",
       "      <td>-2.549663e+09</td>\n",
       "      <td>-2.782039e+09</td>\n",
       "      <td>...</td>\n",
       "      <td>-2.704645e+09</td>\n",
       "      <td>1.471569e+08</td>\n",
       "      <td>6</td>\n",
       "      <td>-4.980344e+08</td>\n",
       "      <td>-5.045869e+08</td>\n",
       "      <td>-4.994664e+08</td>\n",
       "      <td>-4.990325e+08</td>\n",
       "      <td>-5.055542e+08</td>\n",
       "      <td>-5.013349e+08</td>\n",
       "      <td>3.100456e+06</td>\n",
       "    </tr>\n",
       "    <tr>\n",
       "      <th>8</th>\n",
       "      <td>1.229312</td>\n",
       "      <td>0.165786</td>\n",
       "      <td>0.019167</td>\n",
       "      <td>0.000419</td>\n",
       "      <td>6</td>\n",
       "      <td>30</td>\n",
       "      <td>NaN</td>\n",
       "      <td>{'max_features': 6, 'n_estimators': 30}</td>\n",
       "      <td>-2.370010e+09</td>\n",
       "      <td>-2.583638e+09</td>\n",
       "      <td>...</td>\n",
       "      <td>-2.514673e+09</td>\n",
       "      <td>1.285080e+08</td>\n",
       "      <td>2</td>\n",
       "      <td>-3.838538e+08</td>\n",
       "      <td>-3.804711e+08</td>\n",
       "      <td>-3.805218e+08</td>\n",
       "      <td>-3.856095e+08</td>\n",
       "      <td>-3.901917e+08</td>\n",
       "      <td>-3.841296e+08</td>\n",
       "      <td>3.617057e+06</td>\n",
       "    </tr>\n",
       "    <tr>\n",
       "      <th>9</th>\n",
       "      <td>0.133965</td>\n",
       "      <td>0.002312</td>\n",
       "      <td>0.002179</td>\n",
       "      <td>0.000051</td>\n",
       "      <td>8</td>\n",
       "      <td>3</td>\n",
       "      <td>NaN</td>\n",
       "      <td>{'max_features': 8, 'n_estimators': 3}</td>\n",
       "      <td>-3.353504e+09</td>\n",
       "      <td>-3.348552e+09</td>\n",
       "      <td>...</td>\n",
       "      <td>-3.348850e+09</td>\n",
       "      <td>1.241939e+08</td>\n",
       "      <td>13</td>\n",
       "      <td>-9.228123e+08</td>\n",
       "      <td>-8.553031e+08</td>\n",
       "      <td>-8.603321e+08</td>\n",
       "      <td>-8.881964e+08</td>\n",
       "      <td>-9.151287e+08</td>\n",
       "      <td>-8.883545e+08</td>\n",
       "      <td>2.750227e+07</td>\n",
       "    </tr>\n",
       "    <tr>\n",
       "      <th>10</th>\n",
       "      <td>0.451340</td>\n",
       "      <td>0.005532</td>\n",
       "      <td>0.006404</td>\n",
       "      <td>0.000042</td>\n",
       "      <td>8</td>\n",
       "      <td>10</td>\n",
       "      <td>NaN</td>\n",
       "      <td>{'max_features': 8, 'n_estimators': 10}</td>\n",
       "      <td>-2.571970e+09</td>\n",
       "      <td>-2.718994e+09</td>\n",
       "      <td>...</td>\n",
       "      <td>-2.674041e+09</td>\n",
       "      <td>1.392777e+08</td>\n",
       "      <td>5</td>\n",
       "      <td>-4.932416e+08</td>\n",
       "      <td>-4.815238e+08</td>\n",
       "      <td>-4.730979e+08</td>\n",
       "      <td>-5.155367e+08</td>\n",
       "      <td>-4.985555e+08</td>\n",
       "      <td>-4.923911e+08</td>\n",
       "      <td>1.459294e+07</td>\n",
       "    </tr>\n",
       "    <tr>\n",
       "      <th>11</th>\n",
       "      <td>1.362077</td>\n",
       "      <td>0.011472</td>\n",
       "      <td>0.018766</td>\n",
       "      <td>0.000797</td>\n",
       "      <td>8</td>\n",
       "      <td>30</td>\n",
       "      <td>NaN</td>\n",
       "      <td>{'max_features': 8, 'n_estimators': 30}</td>\n",
       "      <td>-2.357390e+09</td>\n",
       "      <td>-2.546640e+09</td>\n",
       "      <td>...</td>\n",
       "      <td>-2.468328e+09</td>\n",
       "      <td>1.091662e+08</td>\n",
       "      <td>1</td>\n",
       "      <td>-3.841658e+08</td>\n",
       "      <td>-3.744500e+08</td>\n",
       "      <td>-3.773239e+08</td>\n",
       "      <td>-3.882250e+08</td>\n",
       "      <td>-3.810005e+08</td>\n",
       "      <td>-3.810330e+08</td>\n",
       "      <td>4.871017e+06</td>\n",
       "    </tr>\n",
       "    <tr>\n",
       "      <th>12</th>\n",
       "      <td>0.070720</td>\n",
       "      <td>0.001344</td>\n",
       "      <td>0.002370</td>\n",
       "      <td>0.000075</td>\n",
       "      <td>2</td>\n",
       "      <td>3</td>\n",
       "      <td>False</td>\n",
       "      <td>{'bootstrap': False, 'max_features': 2, 'n_est...</td>\n",
       "      <td>-3.785816e+09</td>\n",
       "      <td>-4.166012e+09</td>\n",
       "      <td>...</td>\n",
       "      <td>-3.955790e+09</td>\n",
       "      <td>1.900964e+08</td>\n",
       "      <td>17</td>\n",
       "      <td>-0.000000e+00</td>\n",
       "      <td>-0.000000e+00</td>\n",
       "      <td>-0.000000e+00</td>\n",
       "      <td>-0.000000e+00</td>\n",
       "      <td>-0.000000e+00</td>\n",
       "      <td>0.000000e+00</td>\n",
       "      <td>0.000000e+00</td>\n",
       "    </tr>\n",
       "    <tr>\n",
       "      <th>13</th>\n",
       "      <td>0.256792</td>\n",
       "      <td>0.034392</td>\n",
       "      <td>0.008079</td>\n",
       "      <td>0.001238</td>\n",
       "      <td>2</td>\n",
       "      <td>10</td>\n",
       "      <td>False</td>\n",
       "      <td>{'bootstrap': False, 'max_features': 2, 'n_est...</td>\n",
       "      <td>-2.810721e+09</td>\n",
       "      <td>-3.107789e+09</td>\n",
       "      <td>...</td>\n",
       "      <td>-2.987516e+09</td>\n",
       "      <td>1.539234e+08</td>\n",
       "      <td>10</td>\n",
       "      <td>-6.056477e-02</td>\n",
       "      <td>-0.000000e+00</td>\n",
       "      <td>-0.000000e+00</td>\n",
       "      <td>-0.000000e+00</td>\n",
       "      <td>-2.967449e+00</td>\n",
       "      <td>-6.056027e-01</td>\n",
       "      <td>1.181156e+00</td>\n",
       "    </tr>\n",
       "    <tr>\n",
       "      <th>14</th>\n",
       "      <td>0.097265</td>\n",
       "      <td>0.002840</td>\n",
       "      <td>0.002427</td>\n",
       "      <td>0.000072</td>\n",
       "      <td>3</td>\n",
       "      <td>3</td>\n",
       "      <td>False</td>\n",
       "      <td>{'bootstrap': False, 'max_features': 3, 'n_est...</td>\n",
       "      <td>-3.618324e+09</td>\n",
       "      <td>-3.441527e+09</td>\n",
       "      <td>...</td>\n",
       "      <td>-3.536729e+09</td>\n",
       "      <td>7.795057e+07</td>\n",
       "      <td>15</td>\n",
       "      <td>-0.000000e+00</td>\n",
       "      <td>-0.000000e+00</td>\n",
       "      <td>-0.000000e+00</td>\n",
       "      <td>-0.000000e+00</td>\n",
       "      <td>-6.072840e+01</td>\n",
       "      <td>-1.214568e+01</td>\n",
       "      <td>2.429136e+01</td>\n",
       "    </tr>\n",
       "    <tr>\n",
       "      <th>15</th>\n",
       "      <td>0.323326</td>\n",
       "      <td>0.008108</td>\n",
       "      <td>0.007491</td>\n",
       "      <td>0.000210</td>\n",
       "      <td>3</td>\n",
       "      <td>10</td>\n",
       "      <td>False</td>\n",
       "      <td>{'bootstrap': False, 'max_features': 3, 'n_est...</td>\n",
       "      <td>-2.757999e+09</td>\n",
       "      <td>-2.851737e+09</td>\n",
       "      <td>...</td>\n",
       "      <td>-2.779924e+09</td>\n",
       "      <td>6.286720e+07</td>\n",
       "      <td>7</td>\n",
       "      <td>-2.089484e+01</td>\n",
       "      <td>-0.000000e+00</td>\n",
       "      <td>-0.000000e+00</td>\n",
       "      <td>-0.000000e+00</td>\n",
       "      <td>-5.465556e+00</td>\n",
       "      <td>-5.272080e+00</td>\n",
       "      <td>8.093117e+00</td>\n",
       "    </tr>\n",
       "    <tr>\n",
       "      <th>16</th>\n",
       "      <td>0.122724</td>\n",
       "      <td>0.002965</td>\n",
       "      <td>0.002406</td>\n",
       "      <td>0.000057</td>\n",
       "      <td>4</td>\n",
       "      <td>3</td>\n",
       "      <td>False</td>\n",
       "      <td>{'bootstrap': False, 'max_features': 4, 'n_est...</td>\n",
       "      <td>-3.134040e+09</td>\n",
       "      <td>-3.559375e+09</td>\n",
       "      <td>...</td>\n",
       "      <td>-3.305166e+09</td>\n",
       "      <td>1.879165e+08</td>\n",
       "      <td>12</td>\n",
       "      <td>-0.000000e+00</td>\n",
       "      <td>-0.000000e+00</td>\n",
       "      <td>-0.000000e+00</td>\n",
       "      <td>-0.000000e+00</td>\n",
       "      <td>-0.000000e+00</td>\n",
       "      <td>0.000000e+00</td>\n",
       "      <td>0.000000e+00</td>\n",
       "    </tr>\n",
       "    <tr>\n",
       "      <th>17</th>\n",
       "      <td>0.404519</td>\n",
       "      <td>0.003193</td>\n",
       "      <td>0.007570</td>\n",
       "      <td>0.000320</td>\n",
       "      <td>4</td>\n",
       "      <td>10</td>\n",
       "      <td>False</td>\n",
       "      <td>{'bootstrap': False, 'max_features': 4, 'n_est...</td>\n",
       "      <td>-2.525578e+09</td>\n",
       "      <td>-2.710011e+09</td>\n",
       "      <td>...</td>\n",
       "      <td>-2.601969e+09</td>\n",
       "      <td>1.088048e+08</td>\n",
       "      <td>4</td>\n",
       "      <td>-0.000000e+00</td>\n",
       "      <td>-1.514119e-02</td>\n",
       "      <td>-0.000000e+00</td>\n",
       "      <td>-0.000000e+00</td>\n",
       "      <td>-0.000000e+00</td>\n",
       "      <td>-3.028238e-03</td>\n",
       "      <td>6.056477e-03</td>\n",
       "    </tr>\n",
       "  </tbody>\n",
       "</table>\n",
       "<p>18 rows × 23 columns</p>\n",
       "</div>"
      ],
      "text/plain": [
       "    mean_fit_time  std_fit_time  mean_score_time  std_score_time  \\\n",
       "0        0.048363      0.003711         0.002295        0.000346   \n",
       "1        0.162401      0.018069         0.008621        0.002886   \n",
       "2        0.515648      0.092406         0.018599        0.000726   \n",
       "3        0.076782      0.002274         0.002074        0.000092   \n",
       "4        0.303103      0.017707         0.007924        0.001102   \n",
       "5        0.757576      0.030469         0.018569        0.000528   \n",
       "6        0.104825      0.003678         0.002076        0.000077   \n",
       "7        0.413338      0.071890         0.008415        0.003138   \n",
       "8        1.229312      0.165786         0.019167        0.000419   \n",
       "9        0.133965      0.002312         0.002179        0.000051   \n",
       "10       0.451340      0.005532         0.006404        0.000042   \n",
       "11       1.362077      0.011472         0.018766        0.000797   \n",
       "12       0.070720      0.001344         0.002370        0.000075   \n",
       "13       0.256792      0.034392         0.008079        0.001238   \n",
       "14       0.097265      0.002840         0.002427        0.000072   \n",
       "15       0.323326      0.008108         0.007491        0.000210   \n",
       "16       0.122724      0.002965         0.002406        0.000057   \n",
       "17       0.404519      0.003193         0.007570        0.000320   \n",
       "\n",
       "   param_max_features param_n_estimators param_bootstrap  \\\n",
       "0                   2                  3             NaN   \n",
       "1                   2                 10             NaN   \n",
       "2                   2                 30             NaN   \n",
       "3                   4                  3             NaN   \n",
       "4                   4                 10             NaN   \n",
       "5                   4                 30             NaN   \n",
       "6                   6                  3             NaN   \n",
       "7                   6                 10             NaN   \n",
       "8                   6                 30             NaN   \n",
       "9                   8                  3             NaN   \n",
       "10                  8                 10             NaN   \n",
       "11                  8                 30             NaN   \n",
       "12                  2                  3           False   \n",
       "13                  2                 10           False   \n",
       "14                  3                  3           False   \n",
       "15                  3                 10           False   \n",
       "16                  4                  3           False   \n",
       "17                  4                 10           False   \n",
       "\n",
       "                                               params  split0_test_score  \\\n",
       "0              {'max_features': 2, 'n_estimators': 3}      -3.837622e+09   \n",
       "1             {'max_features': 2, 'n_estimators': 10}      -3.047771e+09   \n",
       "2             {'max_features': 2, 'n_estimators': 30}      -2.689185e+09   \n",
       "3              {'max_features': 4, 'n_estimators': 3}      -3.730181e+09   \n",
       "4             {'max_features': 4, 'n_estimators': 10}      -2.666283e+09   \n",
       "5             {'max_features': 4, 'n_estimators': 30}      -2.387153e+09   \n",
       "6              {'max_features': 6, 'n_estimators': 3}      -3.119657e+09   \n",
       "7             {'max_features': 6, 'n_estimators': 10}      -2.549663e+09   \n",
       "8             {'max_features': 6, 'n_estimators': 30}      -2.370010e+09   \n",
       "9              {'max_features': 8, 'n_estimators': 3}      -3.353504e+09   \n",
       "10            {'max_features': 8, 'n_estimators': 10}      -2.571970e+09   \n",
       "11            {'max_features': 8, 'n_estimators': 30}      -2.357390e+09   \n",
       "12  {'bootstrap': False, 'max_features': 2, 'n_est...      -3.785816e+09   \n",
       "13  {'bootstrap': False, 'max_features': 2, 'n_est...      -2.810721e+09   \n",
       "14  {'bootstrap': False, 'max_features': 3, 'n_est...      -3.618324e+09   \n",
       "15  {'bootstrap': False, 'max_features': 3, 'n_est...      -2.757999e+09   \n",
       "16  {'bootstrap': False, 'max_features': 4, 'n_est...      -3.134040e+09   \n",
       "17  {'bootstrap': False, 'max_features': 4, 'n_est...      -2.525578e+09   \n",
       "\n",
       "    split1_test_score  ...  mean_test_score  std_test_score  rank_test_score  \\\n",
       "0       -4.147108e+09  ...    -4.053756e+09    1.519591e+08               18   \n",
       "1       -3.254861e+09  ...    -3.094374e+09    1.327062e+08               11   \n",
       "2       -3.021086e+09  ...    -2.849913e+09    1.626875e+08                9   \n",
       "3       -3.786886e+09  ...    -3.716847e+09    1.631510e+08               16   \n",
       "4       -2.784511e+09  ...    -2.781618e+09    1.268607e+08                8   \n",
       "5       -2.588448e+09  ...    -2.537883e+09    1.214614e+08                3   \n",
       "6       -3.586319e+09  ...    -3.441458e+09    1.893056e+08               14   \n",
       "7       -2.782039e+09  ...    -2.704645e+09    1.471569e+08                6   \n",
       "8       -2.583638e+09  ...    -2.514673e+09    1.285080e+08                2   \n",
       "9       -3.348552e+09  ...    -3.348850e+09    1.241939e+08               13   \n",
       "10      -2.718994e+09  ...    -2.674041e+09    1.392777e+08                5   \n",
       "11      -2.546640e+09  ...    -2.468328e+09    1.091662e+08                1   \n",
       "12      -4.166012e+09  ...    -3.955790e+09    1.900964e+08               17   \n",
       "13      -3.107789e+09  ...    -2.987516e+09    1.539234e+08               10   \n",
       "14      -3.441527e+09  ...    -3.536729e+09    7.795057e+07               15   \n",
       "15      -2.851737e+09  ...    -2.779924e+09    6.286720e+07                7   \n",
       "16      -3.559375e+09  ...    -3.305166e+09    1.879165e+08               12   \n",
       "17      -2.710011e+09  ...    -2.601969e+09    1.088048e+08                4   \n",
       "\n",
       "    split0_train_score  split1_train_score  split2_train_score  \\\n",
       "0        -1.064113e+09       -1.105142e+09       -1.116550e+09   \n",
       "1        -5.927175e+08       -5.870952e+08       -5.776964e+08   \n",
       "2        -4.381089e+08       -4.391272e+08       -4.371702e+08   \n",
       "3        -9.865163e+08       -1.012565e+09       -9.169425e+08   \n",
       "4        -5.097115e+08       -5.162820e+08       -4.962893e+08   \n",
       "5        -3.838835e+08       -3.880268e+08       -3.790867e+08   \n",
       "6        -9.245343e+08       -8.886939e+08       -9.353135e+08   \n",
       "7        -4.980344e+08       -5.045869e+08       -4.994664e+08   \n",
       "8        -3.838538e+08       -3.804711e+08       -3.805218e+08   \n",
       "9        -9.228123e+08       -8.553031e+08       -8.603321e+08   \n",
       "10       -4.932416e+08       -4.815238e+08       -4.730979e+08   \n",
       "11       -3.841658e+08       -3.744500e+08       -3.773239e+08   \n",
       "12       -0.000000e+00       -0.000000e+00       -0.000000e+00   \n",
       "13       -6.056477e-02       -0.000000e+00       -0.000000e+00   \n",
       "14       -0.000000e+00       -0.000000e+00       -0.000000e+00   \n",
       "15       -2.089484e+01       -0.000000e+00       -0.000000e+00   \n",
       "16       -0.000000e+00       -0.000000e+00       -0.000000e+00   \n",
       "17       -0.000000e+00       -1.514119e-02       -0.000000e+00   \n",
       "\n",
       "    split3_train_score  split4_train_score  mean_train_score  std_train_score  \n",
       "0        -1.112342e+09       -1.129650e+09     -1.105559e+09     2.220402e+07  \n",
       "1        -5.716332e+08       -5.802501e+08     -5.818785e+08     7.345821e+06  \n",
       "2        -4.376955e+08       -4.452654e+08     -4.394734e+08     2.966320e+06  \n",
       "3        -1.037400e+09       -9.707739e+08     -9.848396e+08     4.084607e+07  \n",
       "4        -5.436192e+08       -5.160297e+08     -5.163863e+08     1.542862e+07  \n",
       "5        -4.040957e+08       -3.845520e+08     -3.879289e+08     8.571233e+06  \n",
       "6        -9.009801e+08       -8.624664e+08     -9.023976e+08     2.591445e+07  \n",
       "7        -4.990325e+08       -5.055542e+08     -5.013349e+08     3.100456e+06  \n",
       "8        -3.856095e+08       -3.901917e+08     -3.841296e+08     3.617057e+06  \n",
       "9        -8.881964e+08       -9.151287e+08     -8.883545e+08     2.750227e+07  \n",
       "10       -5.155367e+08       -4.985555e+08     -4.923911e+08     1.459294e+07  \n",
       "11       -3.882250e+08       -3.810005e+08     -3.810330e+08     4.871017e+06  \n",
       "12       -0.000000e+00       -0.000000e+00      0.000000e+00     0.000000e+00  \n",
       "13       -0.000000e+00       -2.967449e+00     -6.056027e-01     1.181156e+00  \n",
       "14       -0.000000e+00       -6.072840e+01     -1.214568e+01     2.429136e+01  \n",
       "15       -0.000000e+00       -5.465556e+00     -5.272080e+00     8.093117e+00  \n",
       "16       -0.000000e+00       -0.000000e+00      0.000000e+00     0.000000e+00  \n",
       "17       -0.000000e+00       -0.000000e+00     -3.028238e-03     6.056477e-03  \n",
       "\n",
       "[18 rows x 23 columns]"
      ]
     },
     "execution_count": 82,
     "metadata": {},
     "output_type": "execute_result"
    }
   ],
   "source": [
    "pd.DataFrame(grid_search.cv_results_)"
   ]
  },
  {
   "cell_type": "code",
   "execution_count": 83,
   "metadata": {},
   "outputs": [
    {
     "data": {
      "text/plain": [
       "RandomizedSearchCV(cv=5, estimator=RandomForestRegressor(random_state=42),\n",
       "                   param_distributions={'max_features': <scipy.stats._distn_infrastructure.rv_frozen object at 0x7f01fb81fd60>,\n",
       "                                        'n_estimators': <scipy.stats._distn_infrastructure.rv_frozen object at 0x7f01f89141f0>},\n",
       "                   random_state=42, scoring='neg_mean_squared_error')"
      ]
     },
     "execution_count": 83,
     "metadata": {},
     "output_type": "execute_result"
    }
   ],
   "source": [
    "from sklearn.model_selection import RandomizedSearchCV\n",
    "from scipy.stats import randint\n",
    "\n",
    "param_distribs = {\n",
    "        'n_estimators': randint(low=1, high=200),\n",
    "        'max_features': randint(low=1, high=8),\n",
    "    }\n",
    "\n",
    "forest_reg = RandomForestRegressor(random_state=42)\n",
    "rnd_search = RandomizedSearchCV(forest_reg, param_distributions=param_distribs,\n",
    "                                n_iter=10, cv=5, scoring='neg_mean_squared_error', random_state=42)\n",
    "rnd_search.fit(housing_prepared, housing_labels)"
   ]
  },
  {
   "cell_type": "code",
   "execution_count": 84,
   "metadata": {},
   "outputs": [
    {
     "name": "stdout",
     "output_type": "stream",
     "text": [
      "49150.70756927707 {'max_features': 7, 'n_estimators': 180}\n",
      "51389.889203389284 {'max_features': 5, 'n_estimators': 15}\n",
      "50796.155224308866 {'max_features': 3, 'n_estimators': 72}\n",
      "50835.13360315349 {'max_features': 5, 'n_estimators': 21}\n",
      "49280.9449827171 {'max_features': 7, 'n_estimators': 122}\n",
      "50774.90662363929 {'max_features': 3, 'n_estimators': 75}\n",
      "50682.78888164288 {'max_features': 3, 'n_estimators': 88}\n",
      "49608.99608105296 {'max_features': 5, 'n_estimators': 100}\n",
      "50473.61930350219 {'max_features': 3, 'n_estimators': 150}\n",
      "64429.84143294435 {'max_features': 5, 'n_estimators': 2}\n"
     ]
    }
   ],
   "source": [
    "cvres = rnd_search.cv_results_\n",
    "for mean_score, params in zip(cvres[\"mean_test_score\"], cvres[\"params\"]):\n",
    "    print(np.sqrt(-mean_score), params)"
   ]
  },
  {
   "cell_type": "code",
   "execution_count": 85,
   "metadata": {},
   "outputs": [
    {
     "data": {
      "text/plain": [
       "array([7.33442355e-02, 6.29090705e-02, 4.11437985e-02, 1.46726854e-02,\n",
       "       1.41064835e-02, 1.48742809e-02, 1.42575993e-02, 3.66158981e-01,\n",
       "       5.64191792e-02, 1.08792957e-01, 5.33510773e-02, 1.03114883e-02,\n",
       "       1.64780994e-01, 6.02803867e-05, 1.96041560e-03, 2.85647464e-03])"
      ]
     },
     "execution_count": 85,
     "metadata": {},
     "output_type": "execute_result"
    }
   ],
   "source": [
    "feature_importances = grid_search.best_estimator_.feature_importances_\n",
    "feature_importances"
   ]
  },
  {
   "cell_type": "code",
   "execution_count": 86,
   "metadata": {},
   "outputs": [
    {
     "data": {
      "text/plain": [
       "[(0.36615898061813423, 'median_income'),\n",
       " (0.16478099356159054, 'INLAND'),\n",
       " (0.10879295677551575, 'pop_per_hhold'),\n",
       " (0.07334423551601243, 'longitude'),\n",
       " (0.06290907048262032, 'latitude'),\n",
       " (0.056419179181954014, 'rooms_per_hhold'),\n",
       " (0.053351077347675815, 'bedrooms_per_room'),\n",
       " (0.04114379847872964, 'housing_median_age'),\n",
       " (0.014874280890402769, 'population'),\n",
       " (0.014672685420543239, 'total_rooms'),\n",
       " (0.014257599323407808, 'households'),\n",
       " (0.014106483453584104, 'total_bedrooms'),\n",
       " (0.010311488326303788, '<1H OCEAN'),\n",
       " (0.0028564746373201584, 'NEAR OCEAN'),\n",
       " (0.0019604155994780706, 'NEAR BAY'),\n",
       " (6.0280386727366e-05, 'ISLAND')]"
      ]
     },
     "execution_count": 86,
     "metadata": {},
     "output_type": "execute_result"
    }
   ],
   "source": [
    "extra_attribs = [\"rooms_per_hhold\", \"pop_per_hhold\", \"bedrooms_per_room\"]\n",
    "cat_encoder = full_pipeline.named_transformers_[\"cat\"]\n",
    "cat_one_hot_attribs = list(cat_encoder.categories_[0])\n",
    "attributes = num_attribs + extra_attribs + cat_one_hot_attribs\n",
    "sorted(zip(feature_importances, attributes), reverse=True)"
   ]
  },
  {
   "cell_type": "code",
   "execution_count": 87,
   "metadata": {},
   "outputs": [],
   "source": [
    "final_model = grid_search.best_estimator_\n",
    "\n",
    "X_test = strat_test_set.drop(\"median_house_value\", axis=1)\n",
    "y_test = strat_test_set[\"median_house_value\"].copy()\n",
    "\n",
    "X_test_prepared = full_pipeline.transform(X_test)\n",
    "final_predictions = final_model.predict(X_test_prepared)\n",
    "\n",
    "final_mse = mean_squared_error(y_test, final_predictions)\n",
    "final_rmse = np.sqrt(final_mse)"
   ]
  },
  {
   "cell_type": "code",
   "execution_count": 88,
   "metadata": {},
   "outputs": [
    {
     "data": {
      "text/plain": [
       "47730.22690385927"
      ]
     },
     "execution_count": 88,
     "metadata": {},
     "output_type": "execute_result"
    }
   ],
   "source": [
    "final_rmse"
   ]
  },
  {
   "cell_type": "code",
   "execution_count": 89,
   "metadata": {},
   "outputs": [
    {
     "data": {
      "text/plain": [
       "array([45685.10470776, 49691.25001878])"
      ]
     },
     "execution_count": 89,
     "metadata": {},
     "output_type": "execute_result"
    }
   ],
   "source": [
    "from scipy import stats\n",
    "\n",
    "confidence = 0.95\n",
    "squared_errors = (final_predictions - y_test) ** 2\n",
    "np.sqrt(stats.t.interval(confidence, len(squared_errors) - 1,\n",
    "                         loc=squared_errors.mean(),\n",
    "                         scale=stats.sem(squared_errors)))"
   ]
  },
  {
   "cell_type": "code",
   "execution_count": 91,
   "metadata": {},
   "outputs": [
    {
     "data": {
      "text/plain": [
       "(45685.10470776014, 49691.25001877871)"
      ]
     },
     "execution_count": 91,
     "metadata": {},
     "output_type": "execute_result"
    }
   ],
   "source": [
    "m = len(squared_errors)\n",
    "mean = squared_errors.mean()\n",
    "tscore = stats.t.ppf((1 + confidence) / 2, df=m - 1)\n",
    "tmargin = tscore * squared_errors.std(ddof=1) / np.sqrt(m)\n",
    "np.sqrt(mean - tmargin), np.sqrt(mean + tmargin)"
   ]
  },
  {
   "cell_type": "code",
   "execution_count": 92,
   "metadata": {},
   "outputs": [
    {
     "data": {
      "text/plain": [
       "(45685.717918136594, 49690.68623889426)"
      ]
     },
     "execution_count": 92,
     "metadata": {},
     "output_type": "execute_result"
    }
   ],
   "source": [
    "zscore = stats.norm.ppf((1 + confidence) / 2)\n",
    "zmargin = zscore * squared_errors.std(ddof=1) / np.sqrt(m)\n",
    "np.sqrt(mean - zmargin), np.sqrt(mean + zmargin)"
   ]
  },
  {
   "cell_type": "code",
   "execution_count": 93,
   "metadata": {},
   "outputs": [
    {
     "data": {
      "text/plain": [
       "array([210644.60459286, 317768.80697211, 210956.43331178,  59218.98886849,\n",
       "       189747.55849879])"
      ]
     },
     "execution_count": 93,
     "metadata": {},
     "output_type": "execute_result"
    }
   ],
   "source": [
    "full_pipeline_with_predictor = Pipeline([\n",
    "        (\"preparation\", full_pipeline),\n",
    "        (\"linear\", LinearRegression())\n",
    "    ])\n",
    "\n",
    "full_pipeline_with_predictor.fit(housing, housing_labels)\n",
    "full_pipeline_with_predictor.predict(some_data)"
   ]
  },
  {
   "cell_type": "code",
   "execution_count": 94,
   "metadata": {},
   "outputs": [],
   "source": [
    "my_model = full_pipeline_with_predictor"
   ]
  },
  {
   "cell_type": "code",
   "execution_count": 95,
   "metadata": {},
   "outputs": [],
   "source": [
    "import joblib\n",
    "joblib.dump(my_model, \"my_model.pkl\")\n",
    "\n",
    "my_model_loaded = joblib.load(\"my_model.pkl\")"
   ]
  },
  {
   "cell_type": "code",
   "execution_count": 96,
   "metadata": {},
   "outputs": [
    {
     "name": "stdout",
     "output_type": "stream",
     "text": [
      "Fitting 5 folds for each of 50 candidates, totalling 250 fits\n",
      "[CV] C=10.0, kernel=linear ...........................................\n"
     ]
    },
    {
     "name": "stderr",
     "output_type": "stream",
     "text": [
      "[Parallel(n_jobs=1)]: Using backend SequentialBackend with 1 concurrent workers.\n"
     ]
    },
    {
     "name": "stdout",
     "output_type": "stream",
     "text": [
      "[CV] ............................ C=10.0, kernel=linear, total=   5.4s\n",
      "[CV] C=10.0, kernel=linear ...........................................\n"
     ]
    },
    {
     "name": "stderr",
     "output_type": "stream",
     "text": [
      "[Parallel(n_jobs=1)]: Done   1 out of   1 | elapsed:    5.4s remaining:    0.0s\n"
     ]
    },
    {
     "name": "stdout",
     "output_type": "stream",
     "text": [
      "[CV] ............................ C=10.0, kernel=linear, total=   5.4s\n",
      "[CV] C=10.0, kernel=linear ...........................................\n",
      "[CV] ............................ C=10.0, kernel=linear, total=   5.0s\n",
      "[CV] C=10.0, kernel=linear ...........................................\n",
      "[CV] ............................ C=10.0, kernel=linear, total=   5.1s\n",
      "[CV] C=10.0, kernel=linear ...........................................\n",
      "[CV] ............................ C=10.0, kernel=linear, total=   5.8s\n",
      "[CV] C=30.0, kernel=linear ...........................................\n",
      "[CV] ............................ C=30.0, kernel=linear, total=   7.6s\n",
      "[CV] C=30.0, kernel=linear ...........................................\n",
      "[CV] ............................ C=30.0, kernel=linear, total=   5.9s\n",
      "[CV] C=30.0, kernel=linear ...........................................\n",
      "[CV] ............................ C=30.0, kernel=linear, total=   6.0s\n",
      "[CV] C=30.0, kernel=linear ...........................................\n",
      "[CV] ............................ C=30.0, kernel=linear, total=   6.6s\n",
      "[CV] C=30.0, kernel=linear ...........................................\n",
      "[CV] ............................ C=30.0, kernel=linear, total=   6.0s\n",
      "[CV] C=100.0, kernel=linear ..........................................\n",
      "[CV] ........................... C=100.0, kernel=linear, total=   5.4s\n",
      "[CV] C=100.0, kernel=linear ..........................................\n",
      "[CV] ........................... C=100.0, kernel=linear, total=   5.0s\n",
      "[CV] C=100.0, kernel=linear ..........................................\n",
      "[CV] ........................... C=100.0, kernel=linear, total=   5.5s\n",
      "[CV] C=100.0, kernel=linear ..........................................\n",
      "[CV] ........................... C=100.0, kernel=linear, total=   5.1s\n",
      "[CV] C=100.0, kernel=linear ..........................................\n",
      "[CV] ........................... C=100.0, kernel=linear, total=   4.9s\n",
      "[CV] C=300.0, kernel=linear ..........................................\n",
      "[CV] ........................... C=300.0, kernel=linear, total=   5.8s\n",
      "[CV] C=300.0, kernel=linear ..........................................\n",
      "[CV] ........................... C=300.0, kernel=linear, total=   5.6s\n",
      "[CV] C=300.0, kernel=linear ..........................................\n",
      "[CV] ........................... C=300.0, kernel=linear, total=   5.6s\n",
      "[CV] C=300.0, kernel=linear ..........................................\n",
      "[CV] ........................... C=300.0, kernel=linear, total=   5.5s\n",
      "[CV] C=300.0, kernel=linear ..........................................\n",
      "[CV] ........................... C=300.0, kernel=linear, total=   4.9s\n",
      "[CV] C=1000.0, kernel=linear .........................................\n",
      "[CV] .......................... C=1000.0, kernel=linear, total=   5.1s\n",
      "[CV] C=1000.0, kernel=linear .........................................\n",
      "[CV] .......................... C=1000.0, kernel=linear, total=   5.2s\n",
      "[CV] C=1000.0, kernel=linear .........................................\n",
      "[CV] .......................... C=1000.0, kernel=linear, total=   5.2s\n",
      "[CV] C=1000.0, kernel=linear .........................................\n",
      "[CV] .......................... C=1000.0, kernel=linear, total=   5.2s\n",
      "[CV] C=1000.0, kernel=linear .........................................\n",
      "[CV] .......................... C=1000.0, kernel=linear, total=   5.1s\n",
      "[CV] C=3000.0, kernel=linear .........................................\n",
      "[CV] .......................... C=3000.0, kernel=linear, total=   5.5s\n",
      "[CV] C=3000.0, kernel=linear .........................................\n",
      "[CV] .......................... C=3000.0, kernel=linear, total=   5.4s\n",
      "[CV] C=3000.0, kernel=linear .........................................\n",
      "[CV] .......................... C=3000.0, kernel=linear, total=   5.6s\n",
      "[CV] C=3000.0, kernel=linear .........................................\n",
      "[CV] .......................... C=3000.0, kernel=linear, total=   5.9s\n",
      "[CV] C=3000.0, kernel=linear .........................................\n",
      "[CV] .......................... C=3000.0, kernel=linear, total=   6.5s\n",
      "[CV] C=10000.0, kernel=linear ........................................\n",
      "[CV] ......................... C=10000.0, kernel=linear, total=   8.6s\n",
      "[CV] C=10000.0, kernel=linear ........................................\n",
      "[CV] ......................... C=10000.0, kernel=linear, total=   8.6s\n",
      "[CV] C=10000.0, kernel=linear ........................................\n",
      "[CV] ......................... C=10000.0, kernel=linear, total=   8.7s\n",
      "[CV] C=10000.0, kernel=linear ........................................\n",
      "[CV] ......................... C=10000.0, kernel=linear, total=   7.3s\n",
      "[CV] C=10000.0, kernel=linear ........................................\n",
      "[CV] ......................... C=10000.0, kernel=linear, total=   7.2s\n",
      "[CV] C=30000.0, kernel=linear ........................................\n",
      "[CV] ......................... C=30000.0, kernel=linear, total=  12.0s\n",
      "[CV] C=30000.0, kernel=linear ........................................\n",
      "[CV] ......................... C=30000.0, kernel=linear, total=  13.8s\n",
      "[CV] C=30000.0, kernel=linear ........................................\n",
      "[CV] ......................... C=30000.0, kernel=linear, total=  13.9s\n",
      "[CV] C=30000.0, kernel=linear ........................................\n",
      "[CV] ......................... C=30000.0, kernel=linear, total=  12.6s\n",
      "[CV] C=30000.0, kernel=linear ........................................\n",
      "[CV] ......................... C=30000.0, kernel=linear, total=  11.9s\n",
      "[CV] C=1.0, gamma=0.01, kernel=rbf ...................................\n",
      "[CV] .................... C=1.0, gamma=0.01, kernel=rbf, total=   8.9s\n",
      "[CV] C=1.0, gamma=0.01, kernel=rbf ...................................\n",
      "[CV] .................... C=1.0, gamma=0.01, kernel=rbf, total=   8.6s\n",
      "[CV] C=1.0, gamma=0.01, kernel=rbf ...................................\n",
      "[CV] .................... C=1.0, gamma=0.01, kernel=rbf, total=   9.1s\n",
      "[CV] C=1.0, gamma=0.01, kernel=rbf ...................................\n",
      "[CV] .................... C=1.0, gamma=0.01, kernel=rbf, total=   9.1s\n",
      "[CV] C=1.0, gamma=0.01, kernel=rbf ...................................\n",
      "[CV] .................... C=1.0, gamma=0.01, kernel=rbf, total=   9.4s\n",
      "[CV] C=1.0, gamma=0.03, kernel=rbf ...................................\n",
      "[CV] .................... C=1.0, gamma=0.03, kernel=rbf, total=  11.1s\n",
      "[CV] C=1.0, gamma=0.03, kernel=rbf ...................................\n",
      "[CV] .................... C=1.0, gamma=0.03, kernel=rbf, total=   9.2s\n",
      "[CV] C=1.0, gamma=0.03, kernel=rbf ...................................\n",
      "[CV] .................... C=1.0, gamma=0.03, kernel=rbf, total=   9.8s\n",
      "[CV] C=1.0, gamma=0.03, kernel=rbf ...................................\n",
      "[CV] .................... C=1.0, gamma=0.03, kernel=rbf, total=   9.6s\n",
      "[CV] C=1.0, gamma=0.03, kernel=rbf ...................................\n",
      "[CV] .................... C=1.0, gamma=0.03, kernel=rbf, total=  10.2s\n",
      "[CV] C=1.0, gamma=0.1, kernel=rbf ....................................\n",
      "[CV] ..................... C=1.0, gamma=0.1, kernel=rbf, total=   9.6s\n",
      "[CV] C=1.0, gamma=0.1, kernel=rbf ....................................\n",
      "[CV] ..................... C=1.0, gamma=0.1, kernel=rbf, total=   8.7s\n",
      "[CV] C=1.0, gamma=0.1, kernel=rbf ....................................\n",
      "[CV] ..................... C=1.0, gamma=0.1, kernel=rbf, total=   9.0s\n",
      "[CV] C=1.0, gamma=0.1, kernel=rbf ....................................\n",
      "[CV] ..................... C=1.0, gamma=0.1, kernel=rbf, total=   8.6s\n",
      "[CV] C=1.0, gamma=0.1, kernel=rbf ....................................\n",
      "[CV] ..................... C=1.0, gamma=0.1, kernel=rbf, total=   9.0s\n",
      "[CV] C=1.0, gamma=0.3, kernel=rbf ....................................\n",
      "[CV] ..................... C=1.0, gamma=0.3, kernel=rbf, total=   8.1s\n",
      "[CV] C=1.0, gamma=0.3, kernel=rbf ....................................\n",
      "[CV] ..................... C=1.0, gamma=0.3, kernel=rbf, total=   8.8s\n",
      "[CV] C=1.0, gamma=0.3, kernel=rbf ....................................\n",
      "[CV] ..................... C=1.0, gamma=0.3, kernel=rbf, total=   9.0s\n",
      "[CV] C=1.0, gamma=0.3, kernel=rbf ....................................\n",
      "[CV] ..................... C=1.0, gamma=0.3, kernel=rbf, total=   9.3s\n",
      "[CV] C=1.0, gamma=0.3, kernel=rbf ....................................\n",
      "[CV] ..................... C=1.0, gamma=0.3, kernel=rbf, total=   8.5s\n",
      "[CV] C=1.0, gamma=1.0, kernel=rbf ....................................\n",
      "[CV] ..................... C=1.0, gamma=1.0, kernel=rbf, total=   8.2s\n",
      "[CV] C=1.0, gamma=1.0, kernel=rbf ....................................\n",
      "[CV] ..................... C=1.0, gamma=1.0, kernel=rbf, total=   8.1s\n",
      "[CV] C=1.0, gamma=1.0, kernel=rbf ....................................\n",
      "[CV] ..................... C=1.0, gamma=1.0, kernel=rbf, total=   7.7s\n",
      "[CV] C=1.0, gamma=1.0, kernel=rbf ....................................\n",
      "[CV] ..................... C=1.0, gamma=1.0, kernel=rbf, total=   7.6s\n",
      "[CV] C=1.0, gamma=1.0, kernel=rbf ....................................\n",
      "[CV] ..................... C=1.0, gamma=1.0, kernel=rbf, total=   9.2s\n",
      "[CV] C=1.0, gamma=3.0, kernel=rbf ....................................\n",
      "[CV] ..................... C=1.0, gamma=3.0, kernel=rbf, total=   8.4s\n",
      "[CV] C=1.0, gamma=3.0, kernel=rbf ....................................\n",
      "[CV] ..................... C=1.0, gamma=3.0, kernel=rbf, total=   7.9s\n",
      "[CV] C=1.0, gamma=3.0, kernel=rbf ....................................\n",
      "[CV] ..................... C=1.0, gamma=3.0, kernel=rbf, total=   9.6s\n",
      "[CV] C=1.0, gamma=3.0, kernel=rbf ....................................\n",
      "[CV] ..................... C=1.0, gamma=3.0, kernel=rbf, total=   8.3s\n",
      "[CV] C=1.0, gamma=3.0, kernel=rbf ....................................\n",
      "[CV] ..................... C=1.0, gamma=3.0, kernel=rbf, total=   9.2s\n",
      "[CV] C=3.0, gamma=0.01, kernel=rbf ...................................\n",
      "[CV] .................... C=3.0, gamma=0.01, kernel=rbf, total=   8.9s\n",
      "[CV] C=3.0, gamma=0.01, kernel=rbf ...................................\n",
      "[CV] .................... C=3.0, gamma=0.01, kernel=rbf, total=   8.7s\n",
      "[CV] C=3.0, gamma=0.01, kernel=rbf ...................................\n",
      "[CV] .................... C=3.0, gamma=0.01, kernel=rbf, total=   9.4s\n",
      "[CV] C=3.0, gamma=0.01, kernel=rbf ...................................\n",
      "[CV] .................... C=3.0, gamma=0.01, kernel=rbf, total=   9.3s\n",
      "[CV] C=3.0, gamma=0.01, kernel=rbf ...................................\n",
      "[CV] .................... C=3.0, gamma=0.01, kernel=rbf, total=   9.5s\n",
      "[CV] C=3.0, gamma=0.03, kernel=rbf ...................................\n",
      "[CV] .................... C=3.0, gamma=0.03, kernel=rbf, total=   9.5s\n",
      "[CV] C=3.0, gamma=0.03, kernel=rbf ...................................\n",
      "[CV] .................... C=3.0, gamma=0.03, kernel=rbf, total=   9.3s\n",
      "[CV] C=3.0, gamma=0.03, kernel=rbf ...................................\n",
      "[CV] .................... C=3.0, gamma=0.03, kernel=rbf, total=   9.1s\n",
      "[CV] C=3.0, gamma=0.03, kernel=rbf ...................................\n",
      "[CV] .................... C=3.0, gamma=0.03, kernel=rbf, total=   9.2s\n",
      "[CV] C=3.0, gamma=0.03, kernel=rbf ...................................\n",
      "[CV] .................... C=3.0, gamma=0.03, kernel=rbf, total=   9.0s\n",
      "[CV] C=3.0, gamma=0.1, kernel=rbf ....................................\n",
      "[CV] ..................... C=3.0, gamma=0.1, kernel=rbf, total=   8.6s\n",
      "[CV] C=3.0, gamma=0.1, kernel=rbf ....................................\n",
      "[CV] ..................... C=3.0, gamma=0.1, kernel=rbf, total=   8.6s\n",
      "[CV] C=3.0, gamma=0.1, kernel=rbf ....................................\n",
      "[CV] ..................... C=3.0, gamma=0.1, kernel=rbf, total=   8.7s\n",
      "[CV] C=3.0, gamma=0.1, kernel=rbf ....................................\n",
      "[CV] ..................... C=3.0, gamma=0.1, kernel=rbf, total=   9.0s\n",
      "[CV] C=3.0, gamma=0.1, kernel=rbf ....................................\n",
      "[CV] ..................... C=3.0, gamma=0.1, kernel=rbf, total=   8.5s\n",
      "[CV] C=3.0, gamma=0.3, kernel=rbf ....................................\n",
      "[CV] ..................... C=3.0, gamma=0.3, kernel=rbf, total=   8.1s\n",
      "[CV] C=3.0, gamma=0.3, kernel=rbf ....................................\n",
      "[CV] ..................... C=3.0, gamma=0.3, kernel=rbf, total=   8.4s\n",
      "[CV] C=3.0, gamma=0.3, kernel=rbf ....................................\n",
      "[CV] ..................... C=3.0, gamma=0.3, kernel=rbf, total=   8.4s\n",
      "[CV] C=3.0, gamma=0.3, kernel=rbf ....................................\n",
      "[CV] ..................... C=3.0, gamma=0.3, kernel=rbf, total=   8.3s\n",
      "[CV] C=3.0, gamma=0.3, kernel=rbf ....................................\n",
      "[CV] ..................... C=3.0, gamma=0.3, kernel=rbf, total=   8.6s\n",
      "[CV] C=3.0, gamma=1.0, kernel=rbf ....................................\n",
      "[CV] ..................... C=3.0, gamma=1.0, kernel=rbf, total=   8.0s\n",
      "[CV] C=3.0, gamma=1.0, kernel=rbf ....................................\n",
      "[CV] ..................... C=3.0, gamma=1.0, kernel=rbf, total=   7.8s\n",
      "[CV] C=3.0, gamma=1.0, kernel=rbf ....................................\n",
      "[CV] ..................... C=3.0, gamma=1.0, kernel=rbf, total=   7.7s\n",
      "[CV] C=3.0, gamma=1.0, kernel=rbf ....................................\n",
      "[CV] ..................... C=3.0, gamma=1.0, kernel=rbf, total=   7.8s\n",
      "[CV] C=3.0, gamma=1.0, kernel=rbf ....................................\n",
      "[CV] ..................... C=3.0, gamma=1.0, kernel=rbf, total=   7.8s\n",
      "[CV] C=3.0, gamma=3.0, kernel=rbf ....................................\n",
      "[CV] ..................... C=3.0, gamma=3.0, kernel=rbf, total=   7.4s\n",
      "[CV] C=3.0, gamma=3.0, kernel=rbf ....................................\n",
      "[CV] ..................... C=3.0, gamma=3.0, kernel=rbf, total=   8.3s\n",
      "[CV] C=3.0, gamma=3.0, kernel=rbf ....................................\n",
      "[CV] ..................... C=3.0, gamma=3.0, kernel=rbf, total=   8.0s\n",
      "[CV] C=3.0, gamma=3.0, kernel=rbf ....................................\n",
      "[CV] ..................... C=3.0, gamma=3.0, kernel=rbf, total=   8.3s\n",
      "[CV] C=3.0, gamma=3.0, kernel=rbf ....................................\n",
      "[CV] ..................... C=3.0, gamma=3.0, kernel=rbf, total=   8.3s\n",
      "[CV] C=10.0, gamma=0.01, kernel=rbf ..................................\n",
      "[CV] ................... C=10.0, gamma=0.01, kernel=rbf, total=   9.3s\n",
      "[CV] C=10.0, gamma=0.01, kernel=rbf ..................................\n",
      "[CV] ................... C=10.0, gamma=0.01, kernel=rbf, total=  10.5s\n",
      "[CV] C=10.0, gamma=0.01, kernel=rbf ..................................\n",
      "[CV] ................... C=10.0, gamma=0.01, kernel=rbf, total=   9.8s\n",
      "[CV] C=10.0, gamma=0.01, kernel=rbf ..................................\n",
      "[CV] ................... C=10.0, gamma=0.01, kernel=rbf, total=  10.8s\n",
      "[CV] C=10.0, gamma=0.01, kernel=rbf ..................................\n",
      "[CV] ................... C=10.0, gamma=0.01, kernel=rbf, total=  10.7s\n",
      "[CV] C=10.0, gamma=0.03, kernel=rbf ..................................\n",
      "[CV] ................... C=10.0, gamma=0.03, kernel=rbf, total=   9.3s\n",
      "[CV] C=10.0, gamma=0.03, kernel=rbf ..................................\n",
      "[CV] ................... C=10.0, gamma=0.03, kernel=rbf, total=   8.6s\n",
      "[CV] C=10.0, gamma=0.03, kernel=rbf ..................................\n",
      "[CV] ................... C=10.0, gamma=0.03, kernel=rbf, total=   8.5s\n",
      "[CV] C=10.0, gamma=0.03, kernel=rbf ..................................\n",
      "[CV] ................... C=10.0, gamma=0.03, kernel=rbf, total=   9.0s\n",
      "[CV] C=10.0, gamma=0.03, kernel=rbf ..................................\n",
      "[CV] ................... C=10.0, gamma=0.03, kernel=rbf, total=  10.7s\n",
      "[CV] C=10.0, gamma=0.1, kernel=rbf ...................................\n",
      "[CV] .................... C=10.0, gamma=0.1, kernel=rbf, total=   8.6s\n",
      "[CV] C=10.0, gamma=0.1, kernel=rbf ...................................\n",
      "[CV] .................... C=10.0, gamma=0.1, kernel=rbf, total=   8.5s\n",
      "[CV] C=10.0, gamma=0.1, kernel=rbf ...................................\n",
      "[CV] .................... C=10.0, gamma=0.1, kernel=rbf, total=   8.4s\n",
      "[CV] C=10.0, gamma=0.1, kernel=rbf ...................................\n",
      "[CV] .................... C=10.0, gamma=0.1, kernel=rbf, total=   9.1s\n",
      "[CV] C=10.0, gamma=0.1, kernel=rbf ...................................\n",
      "[CV] .................... C=10.0, gamma=0.1, kernel=rbf, total=  10.6s\n",
      "[CV] C=10.0, gamma=0.3, kernel=rbf ...................................\n",
      "[CV] .................... C=10.0, gamma=0.3, kernel=rbf, total=   9.4s\n",
      "[CV] C=10.0, gamma=0.3, kernel=rbf ...................................\n",
      "[CV] .................... C=10.0, gamma=0.3, kernel=rbf, total=   8.7s\n",
      "[CV] C=10.0, gamma=0.3, kernel=rbf ...................................\n",
      "[CV] .................... C=10.0, gamma=0.3, kernel=rbf, total=   8.9s\n",
      "[CV] C=10.0, gamma=0.3, kernel=rbf ...................................\n",
      "[CV] .................... C=10.0, gamma=0.3, kernel=rbf, total=  10.4s\n",
      "[CV] C=10.0, gamma=0.3, kernel=rbf ...................................\n",
      "[CV] .................... C=10.0, gamma=0.3, kernel=rbf, total=   8.3s\n",
      "[CV] C=10.0, gamma=1.0, kernel=rbf ...................................\n",
      "[CV] .................... C=10.0, gamma=1.0, kernel=rbf, total=   8.2s\n",
      "[CV] C=10.0, gamma=1.0, kernel=rbf ...................................\n",
      "[CV] .................... C=10.0, gamma=1.0, kernel=rbf, total=   8.2s\n",
      "[CV] C=10.0, gamma=1.0, kernel=rbf ...................................\n",
      "[CV] .................... C=10.0, gamma=1.0, kernel=rbf, total=   9.0s\n",
      "[CV] C=10.0, gamma=1.0, kernel=rbf ...................................\n",
      "[CV] .................... C=10.0, gamma=1.0, kernel=rbf, total=   8.6s\n",
      "[CV] C=10.0, gamma=1.0, kernel=rbf ...................................\n",
      "[CV] .................... C=10.0, gamma=1.0, kernel=rbf, total=   7.9s\n",
      "[CV] C=10.0, gamma=3.0, kernel=rbf ...................................\n",
      "[CV] .................... C=10.0, gamma=3.0, kernel=rbf, total=   7.1s\n",
      "[CV] C=10.0, gamma=3.0, kernel=rbf ...................................\n",
      "[CV] .................... C=10.0, gamma=3.0, kernel=rbf, total=   7.3s\n",
      "[CV] C=10.0, gamma=3.0, kernel=rbf ...................................\n",
      "[CV] .................... C=10.0, gamma=3.0, kernel=rbf, total=   7.3s\n",
      "[CV] C=10.0, gamma=3.0, kernel=rbf ...................................\n",
      "[CV] .................... C=10.0, gamma=3.0, kernel=rbf, total=   8.1s\n",
      "[CV] C=10.0, gamma=3.0, kernel=rbf ...................................\n",
      "[CV] .................... C=10.0, gamma=3.0, kernel=rbf, total=   9.0s\n",
      "[CV] C=30.0, gamma=0.01, kernel=rbf ..................................\n",
      "[CV] ................... C=30.0, gamma=0.01, kernel=rbf, total=  10.8s\n",
      "[CV] C=30.0, gamma=0.01, kernel=rbf ..................................\n",
      "[CV] ................... C=30.0, gamma=0.01, kernel=rbf, total=   9.1s\n",
      "[CV] C=30.0, gamma=0.01, kernel=rbf ..................................\n",
      "[CV] ................... C=30.0, gamma=0.01, kernel=rbf, total=   9.2s\n",
      "[CV] C=30.0, gamma=0.01, kernel=rbf ..................................\n",
      "[CV] ................... C=30.0, gamma=0.01, kernel=rbf, total=   9.2s\n",
      "[CV] C=30.0, gamma=0.01, kernel=rbf ..................................\n",
      "[CV] ................... C=30.0, gamma=0.01, kernel=rbf, total=   9.4s\n",
      "[CV] C=30.0, gamma=0.03, kernel=rbf ..................................\n",
      "[CV] ................... C=30.0, gamma=0.03, kernel=rbf, total=  10.7s\n",
      "[CV] C=30.0, gamma=0.03, kernel=rbf ..................................\n",
      "[CV] ................... C=30.0, gamma=0.03, kernel=rbf, total=  10.1s\n",
      "[CV] C=30.0, gamma=0.03, kernel=rbf ..................................\n",
      "[CV] ................... C=30.0, gamma=0.03, kernel=rbf, total=   9.8s\n",
      "[CV] C=30.0, gamma=0.03, kernel=rbf ..................................\n",
      "[CV] ................... C=30.0, gamma=0.03, kernel=rbf, total=   9.4s\n",
      "[CV] C=30.0, gamma=0.03, kernel=rbf ..................................\n",
      "[CV] ................... C=30.0, gamma=0.03, kernel=rbf, total=   9.5s\n",
      "[CV] C=30.0, gamma=0.1, kernel=rbf ...................................\n",
      "[CV] .................... C=30.0, gamma=0.1, kernel=rbf, total=   8.7s\n",
      "[CV] C=30.0, gamma=0.1, kernel=rbf ...................................\n",
      "[CV] .................... C=30.0, gamma=0.1, kernel=rbf, total=   8.8s\n",
      "[CV] C=30.0, gamma=0.1, kernel=rbf ...................................\n",
      "[CV] .................... C=30.0, gamma=0.1, kernel=rbf, total=   8.6s\n",
      "[CV] C=30.0, gamma=0.1, kernel=rbf ...................................\n",
      "[CV] .................... C=30.0, gamma=0.1, kernel=rbf, total=   8.5s\n",
      "[CV] C=30.0, gamma=0.1, kernel=rbf ...................................\n",
      "[CV] .................... C=30.0, gamma=0.1, kernel=rbf, total=   8.4s\n",
      "[CV] C=30.0, gamma=0.3, kernel=rbf ...................................\n",
      "[CV] .................... C=30.0, gamma=0.3, kernel=rbf, total=   7.9s\n",
      "[CV] C=30.0, gamma=0.3, kernel=rbf ...................................\n",
      "[CV] .................... C=30.0, gamma=0.3, kernel=rbf, total=   9.0s\n",
      "[CV] C=30.0, gamma=0.3, kernel=rbf ...................................\n",
      "[CV] .................... C=30.0, gamma=0.3, kernel=rbf, total=   9.8s\n",
      "[CV] C=30.0, gamma=0.3, kernel=rbf ...................................\n",
      "[CV] .................... C=30.0, gamma=0.3, kernel=rbf, total=   8.6s\n",
      "[CV] C=30.0, gamma=0.3, kernel=rbf ...................................\n",
      "[CV] .................... C=30.0, gamma=0.3, kernel=rbf, total=   9.2s\n",
      "[CV] C=30.0, gamma=1.0, kernel=rbf ...................................\n",
      "[CV] .................... C=30.0, gamma=1.0, kernel=rbf, total=   8.9s\n",
      "[CV] C=30.0, gamma=1.0, kernel=rbf ...................................\n",
      "[CV] .................... C=30.0, gamma=1.0, kernel=rbf, total=   8.0s\n",
      "[CV] C=30.0, gamma=1.0, kernel=rbf ...................................\n",
      "[CV] .................... C=30.0, gamma=1.0, kernel=rbf, total=   9.6s\n",
      "[CV] C=30.0, gamma=1.0, kernel=rbf ...................................\n",
      "[CV] .................... C=30.0, gamma=1.0, kernel=rbf, total=   9.6s\n",
      "[CV] C=30.0, gamma=1.0, kernel=rbf ...................................\n",
      "[CV] .................... C=30.0, gamma=1.0, kernel=rbf, total=  10.4s\n",
      "[CV] C=30.0, gamma=3.0, kernel=rbf ...................................\n",
      "[CV] .................... C=30.0, gamma=3.0, kernel=rbf, total=   7.6s\n",
      "[CV] C=30.0, gamma=3.0, kernel=rbf ...................................\n",
      "[CV] .................... C=30.0, gamma=3.0, kernel=rbf, total=   8.1s\n",
      "[CV] C=30.0, gamma=3.0, kernel=rbf ...................................\n",
      "[CV] .................... C=30.0, gamma=3.0, kernel=rbf, total=   7.9s\n",
      "[CV] C=30.0, gamma=3.0, kernel=rbf ...................................\n",
      "[CV] .................... C=30.0, gamma=3.0, kernel=rbf, total=   8.7s\n",
      "[CV] C=30.0, gamma=3.0, kernel=rbf ...................................\n",
      "[CV] .................... C=30.0, gamma=3.0, kernel=rbf, total=   9.1s\n",
      "[CV] C=100.0, gamma=0.01, kernel=rbf .................................\n",
      "[CV] .................. C=100.0, gamma=0.01, kernel=rbf, total=   9.6s\n",
      "[CV] C=100.0, gamma=0.01, kernel=rbf .................................\n",
      "[CV] .................. C=100.0, gamma=0.01, kernel=rbf, total=   8.8s\n",
      "[CV] C=100.0, gamma=0.01, kernel=rbf .................................\n",
      "[CV] .................. C=100.0, gamma=0.01, kernel=rbf, total=   9.1s\n",
      "[CV] C=100.0, gamma=0.01, kernel=rbf .................................\n",
      "[CV] .................. C=100.0, gamma=0.01, kernel=rbf, total=   9.5s\n",
      "[CV] C=100.0, gamma=0.01, kernel=rbf .................................\n",
      "[CV] .................. C=100.0, gamma=0.01, kernel=rbf, total=   8.9s\n",
      "[CV] C=100.0, gamma=0.03, kernel=rbf .................................\n",
      "[CV] .................. C=100.0, gamma=0.03, kernel=rbf, total=   8.5s\n",
      "[CV] C=100.0, gamma=0.03, kernel=rbf .................................\n",
      "[CV] .................. C=100.0, gamma=0.03, kernel=rbf, total=   8.5s\n",
      "[CV] C=100.0, gamma=0.03, kernel=rbf .................................\n",
      "[CV] .................. C=100.0, gamma=0.03, kernel=rbf, total=   8.4s\n",
      "[CV] C=100.0, gamma=0.03, kernel=rbf .................................\n",
      "[CV] .................. C=100.0, gamma=0.03, kernel=rbf, total=   8.3s\n",
      "[CV] C=100.0, gamma=0.03, kernel=rbf .................................\n",
      "[CV] .................. C=100.0, gamma=0.03, kernel=rbf, total=   8.3s\n",
      "[CV] C=100.0, gamma=0.1, kernel=rbf ..................................\n",
      "[CV] ................... C=100.0, gamma=0.1, kernel=rbf, total=   8.1s\n",
      "[CV] C=100.0, gamma=0.1, kernel=rbf ..................................\n",
      "[CV] ................... C=100.0, gamma=0.1, kernel=rbf, total=   8.2s\n",
      "[CV] C=100.0, gamma=0.1, kernel=rbf ..................................\n",
      "[CV] ................... C=100.0, gamma=0.1, kernel=rbf, total=   8.1s\n",
      "[CV] C=100.0, gamma=0.1, kernel=rbf ..................................\n",
      "[CV] ................... C=100.0, gamma=0.1, kernel=rbf, total=   8.1s\n",
      "[CV] C=100.0, gamma=0.1, kernel=rbf ..................................\n",
      "[CV] ................... C=100.0, gamma=0.1, kernel=rbf, total=   8.1s\n",
      "[CV] C=100.0, gamma=0.3, kernel=rbf ..................................\n",
      "[CV] ................... C=100.0, gamma=0.3, kernel=rbf, total=   7.8s\n",
      "[CV] C=100.0, gamma=0.3, kernel=rbf ..................................\n",
      "[CV] ................... C=100.0, gamma=0.3, kernel=rbf, total=   7.9s\n",
      "[CV] C=100.0, gamma=0.3, kernel=rbf ..................................\n",
      "[CV] ................... C=100.0, gamma=0.3, kernel=rbf, total=   7.9s\n",
      "[CV] C=100.0, gamma=0.3, kernel=rbf ..................................\n",
      "[CV] ................... C=100.0, gamma=0.3, kernel=rbf, total=   8.1s\n",
      "[CV] C=100.0, gamma=0.3, kernel=rbf ..................................\n",
      "[CV] ................... C=100.0, gamma=0.3, kernel=rbf, total=   9.4s\n",
      "[CV] C=100.0, gamma=1.0, kernel=rbf ..................................\n",
      "[CV] ................... C=100.0, gamma=1.0, kernel=rbf, total=   8.0s\n",
      "[CV] C=100.0, gamma=1.0, kernel=rbf ..................................\n",
      "[CV] ................... C=100.0, gamma=1.0, kernel=rbf, total=   7.7s\n",
      "[CV] C=100.0, gamma=1.0, kernel=rbf ..................................\n",
      "[CV] ................... C=100.0, gamma=1.0, kernel=rbf, total=   7.9s\n",
      "[CV] C=100.0, gamma=1.0, kernel=rbf ..................................\n",
      "[CV] ................... C=100.0, gamma=1.0, kernel=rbf, total=   7.8s\n",
      "[CV] C=100.0, gamma=1.0, kernel=rbf ..................................\n",
      "[CV] ................... C=100.0, gamma=1.0, kernel=rbf, total=   7.9s\n",
      "[CV] C=100.0, gamma=3.0, kernel=rbf ..................................\n",
      "[CV] ................... C=100.0, gamma=3.0, kernel=rbf, total=   7.1s\n",
      "[CV] C=100.0, gamma=3.0, kernel=rbf ..................................\n",
      "[CV] ................... C=100.0, gamma=3.0, kernel=rbf, total=   7.3s\n",
      "[CV] C=100.0, gamma=3.0, kernel=rbf ..................................\n",
      "[CV] ................... C=100.0, gamma=3.0, kernel=rbf, total=   7.3s\n",
      "[CV] C=100.0, gamma=3.0, kernel=rbf ..................................\n",
      "[CV] ................... C=100.0, gamma=3.0, kernel=rbf, total=   8.3s\n",
      "[CV] C=100.0, gamma=3.0, kernel=rbf ..................................\n",
      "[CV] ................... C=100.0, gamma=3.0, kernel=rbf, total=   8.0s\n",
      "[CV] C=300.0, gamma=0.01, kernel=rbf .................................\n",
      "[CV] .................. C=300.0, gamma=0.01, kernel=rbf, total=   8.9s\n",
      "[CV] C=300.0, gamma=0.01, kernel=rbf .................................\n",
      "[CV] .................. C=300.0, gamma=0.01, kernel=rbf, total=   8.5s\n",
      "[CV] C=300.0, gamma=0.01, kernel=rbf .................................\n",
      "[CV] .................. C=300.0, gamma=0.01, kernel=rbf, total=   8.3s\n",
      "[CV] C=300.0, gamma=0.01, kernel=rbf .................................\n",
      "[CV] .................. C=300.0, gamma=0.01, kernel=rbf, total=   8.2s\n",
      "[CV] C=300.0, gamma=0.01, kernel=rbf .................................\n",
      "[CV] .................. C=300.0, gamma=0.01, kernel=rbf, total=   8.4s\n",
      "[CV] C=300.0, gamma=0.03, kernel=rbf .................................\n",
      "[CV] .................. C=300.0, gamma=0.03, kernel=rbf, total=   8.0s\n",
      "[CV] C=300.0, gamma=0.03, kernel=rbf .................................\n",
      "[CV] .................. C=300.0, gamma=0.03, kernel=rbf, total=   8.0s\n",
      "[CV] C=300.0, gamma=0.03, kernel=rbf .................................\n",
      "[CV] .................. C=300.0, gamma=0.03, kernel=rbf, total=   8.0s\n",
      "[CV] C=300.0, gamma=0.03, kernel=rbf .................................\n",
      "[CV] .................. C=300.0, gamma=0.03, kernel=rbf, total=   8.1s\n",
      "[CV] C=300.0, gamma=0.03, kernel=rbf .................................\n",
      "[CV] .................. C=300.0, gamma=0.03, kernel=rbf, total=   8.1s\n",
      "[CV] C=300.0, gamma=0.1, kernel=rbf ..................................\n",
      "[CV] ................... C=300.0, gamma=0.1, kernel=rbf, total=   7.9s\n",
      "[CV] C=300.0, gamma=0.1, kernel=rbf ..................................\n",
      "[CV] ................... C=300.0, gamma=0.1, kernel=rbf, total=   7.9s\n",
      "[CV] C=300.0, gamma=0.1, kernel=rbf ..................................\n",
      "[CV] ................... C=300.0, gamma=0.1, kernel=rbf, total=   7.9s\n",
      "[CV] C=300.0, gamma=0.1, kernel=rbf ..................................\n",
      "[CV] ................... C=300.0, gamma=0.1, kernel=rbf, total=   8.1s\n",
      "[CV] C=300.0, gamma=0.1, kernel=rbf ..................................\n",
      "[CV] ................... C=300.0, gamma=0.1, kernel=rbf, total=   8.0s\n",
      "[CV] C=300.0, gamma=0.3, kernel=rbf ..................................\n",
      "[CV] ................... C=300.0, gamma=0.3, kernel=rbf, total=   7.7s\n",
      "[CV] C=300.0, gamma=0.3, kernel=rbf ..................................\n",
      "[CV] ................... C=300.0, gamma=0.3, kernel=rbf, total=   8.2s\n",
      "[CV] C=300.0, gamma=0.3, kernel=rbf ..................................\n",
      "[CV] ................... C=300.0, gamma=0.3, kernel=rbf, total=   8.1s\n",
      "[CV] C=300.0, gamma=0.3, kernel=rbf ..................................\n",
      "[CV] ................... C=300.0, gamma=0.3, kernel=rbf, total=   8.6s\n",
      "[CV] C=300.0, gamma=0.3, kernel=rbf ..................................\n",
      "[CV] ................... C=300.0, gamma=0.3, kernel=rbf, total=   8.9s\n",
      "[CV] C=300.0, gamma=1.0, kernel=rbf ..................................\n",
      "[CV] ................... C=300.0, gamma=1.0, kernel=rbf, total=   9.7s\n",
      "[CV] C=300.0, gamma=1.0, kernel=rbf ..................................\n",
      "[CV] ................... C=300.0, gamma=1.0, kernel=rbf, total=   8.1s\n",
      "[CV] C=300.0, gamma=1.0, kernel=rbf ..................................\n",
      "[CV] ................... C=300.0, gamma=1.0, kernel=rbf, total=   7.8s\n",
      "[CV] C=300.0, gamma=1.0, kernel=rbf ..................................\n",
      "[CV] ................... C=300.0, gamma=1.0, kernel=rbf, total=   7.7s\n",
      "[CV] C=300.0, gamma=1.0, kernel=rbf ..................................\n",
      "[CV] ................... C=300.0, gamma=1.0, kernel=rbf, total=   7.7s\n",
      "[CV] C=300.0, gamma=3.0, kernel=rbf ..................................\n",
      "[CV] ................... C=300.0, gamma=3.0, kernel=rbf, total=   7.2s\n",
      "[CV] C=300.0, gamma=3.0, kernel=rbf ..................................\n",
      "[CV] ................... C=300.0, gamma=3.0, kernel=rbf, total=   7.4s\n",
      "[CV] C=300.0, gamma=3.0, kernel=rbf ..................................\n",
      "[CV] ................... C=300.0, gamma=3.0, kernel=rbf, total=   8.0s\n",
      "[CV] C=300.0, gamma=3.0, kernel=rbf ..................................\n",
      "[CV] ................... C=300.0, gamma=3.0, kernel=rbf, total=   7.6s\n",
      "[CV] C=300.0, gamma=3.0, kernel=rbf ..................................\n",
      "[CV] ................... C=300.0, gamma=3.0, kernel=rbf, total=   7.4s\n",
      "[CV] C=1000.0, gamma=0.01, kernel=rbf ................................\n",
      "[CV] ................. C=1000.0, gamma=0.01, kernel=rbf, total=   8.1s\n",
      "[CV] C=1000.0, gamma=0.01, kernel=rbf ................................\n",
      "[CV] ................. C=1000.0, gamma=0.01, kernel=rbf, total=   8.1s\n",
      "[CV] C=1000.0, gamma=0.01, kernel=rbf ................................\n",
      "[CV] ................. C=1000.0, gamma=0.01, kernel=rbf, total=   8.4s\n",
      "[CV] C=1000.0, gamma=0.01, kernel=rbf ................................\n",
      "[CV] ................. C=1000.0, gamma=0.01, kernel=rbf, total=   8.5s\n",
      "[CV] C=1000.0, gamma=0.01, kernel=rbf ................................\n",
      "[CV] ................. C=1000.0, gamma=0.01, kernel=rbf, total=   8.3s\n",
      "[CV] C=1000.0, gamma=0.03, kernel=rbf ................................\n",
      "[CV] ................. C=1000.0, gamma=0.03, kernel=rbf, total=   8.0s\n",
      "[CV] C=1000.0, gamma=0.03, kernel=rbf ................................\n",
      "[CV] ................. C=1000.0, gamma=0.03, kernel=rbf, total=   8.1s\n",
      "[CV] C=1000.0, gamma=0.03, kernel=rbf ................................\n",
      "[CV] ................. C=1000.0, gamma=0.03, kernel=rbf, total=   8.5s\n",
      "[CV] C=1000.0, gamma=0.03, kernel=rbf ................................\n",
      "[CV] ................. C=1000.0, gamma=0.03, kernel=rbf, total=   8.1s\n",
      "[CV] C=1000.0, gamma=0.03, kernel=rbf ................................\n",
      "[CV] ................. C=1000.0, gamma=0.03, kernel=rbf, total=   8.1s\n",
      "[CV] C=1000.0, gamma=0.1, kernel=rbf .................................\n",
      "[CV] .................. C=1000.0, gamma=0.1, kernel=rbf, total=   7.9s\n",
      "[CV] C=1000.0, gamma=0.1, kernel=rbf .................................\n",
      "[CV] .................. C=1000.0, gamma=0.1, kernel=rbf, total=   7.9s\n",
      "[CV] C=1000.0, gamma=0.1, kernel=rbf .................................\n",
      "[CV] .................. C=1000.0, gamma=0.1, kernel=rbf, total=   8.3s\n",
      "[CV] C=1000.0, gamma=0.1, kernel=rbf .................................\n",
      "[CV] .................. C=1000.0, gamma=0.1, kernel=rbf, total=   9.3s\n",
      "[CV] C=1000.0, gamma=0.1, kernel=rbf .................................\n",
      "[CV] .................. C=1000.0, gamma=0.1, kernel=rbf, total=   9.2s\n",
      "[CV] C=1000.0, gamma=0.3, kernel=rbf .................................\n",
      "[CV] .................. C=1000.0, gamma=0.3, kernel=rbf, total=   8.4s\n",
      "[CV] C=1000.0, gamma=0.3, kernel=rbf .................................\n",
      "[CV] .................. C=1000.0, gamma=0.3, kernel=rbf, total=   8.7s\n",
      "[CV] C=1000.0, gamma=0.3, kernel=rbf .................................\n",
      "[CV] .................. C=1000.0, gamma=0.3, kernel=rbf, total=   7.7s\n",
      "[CV] C=1000.0, gamma=0.3, kernel=rbf .................................\n",
      "[CV] .................. C=1000.0, gamma=0.3, kernel=rbf, total=   7.8s\n",
      "[CV] C=1000.0, gamma=0.3, kernel=rbf .................................\n",
      "[CV] .................. C=1000.0, gamma=0.3, kernel=rbf, total=   7.7s\n",
      "[CV] C=1000.0, gamma=1.0, kernel=rbf .................................\n",
      "[CV] .................. C=1000.0, gamma=1.0, kernel=rbf, total=   7.6s\n",
      "[CV] C=1000.0, gamma=1.0, kernel=rbf .................................\n",
      "[CV] .................. C=1000.0, gamma=1.0, kernel=rbf, total=   7.5s\n",
      "[CV] C=1000.0, gamma=1.0, kernel=rbf .................................\n",
      "[CV] .................. C=1000.0, gamma=1.0, kernel=rbf, total=   7.6s\n",
      "[CV] C=1000.0, gamma=1.0, kernel=rbf .................................\n",
      "[CV] .................. C=1000.0, gamma=1.0, kernel=rbf, total=   7.5s\n",
      "[CV] C=1000.0, gamma=1.0, kernel=rbf .................................\n",
      "[CV] .................. C=1000.0, gamma=1.0, kernel=rbf, total=   7.6s\n",
      "[CV] C=1000.0, gamma=3.0, kernel=rbf .................................\n",
      "[CV] .................. C=1000.0, gamma=3.0, kernel=rbf, total=   7.1s\n",
      "[CV] C=1000.0, gamma=3.0, kernel=rbf .................................\n",
      "[CV] .................. C=1000.0, gamma=3.0, kernel=rbf, total=   7.3s\n",
      "[CV] C=1000.0, gamma=3.0, kernel=rbf .................................\n",
      "[CV] .................. C=1000.0, gamma=3.0, kernel=rbf, total=   7.3s\n",
      "[CV] C=1000.0, gamma=3.0, kernel=rbf .................................\n",
      "[CV] .................. C=1000.0, gamma=3.0, kernel=rbf, total=   7.3s\n",
      "[CV] C=1000.0, gamma=3.0, kernel=rbf .................................\n",
      "[CV] .................. C=1000.0, gamma=3.0, kernel=rbf, total=   7.2s\n"
     ]
    },
    {
     "name": "stderr",
     "output_type": "stream",
     "text": [
      "[Parallel(n_jobs=1)]: Done 250 out of 250 | elapsed: 34.4min finished\n"
     ]
    },
    {
     "data": {
      "text/plain": [
       "GridSearchCV(cv=5, estimator=SVR(),\n",
       "             param_grid=[{'C': [10.0, 30.0, 100.0, 300.0, 1000.0, 3000.0,\n",
       "                                10000.0, 30000.0],\n",
       "                          'kernel': ['linear']},\n",
       "                         {'C': [1.0, 3.0, 10.0, 30.0, 100.0, 300.0, 1000.0],\n",
       "                          'gamma': [0.01, 0.03, 0.1, 0.3, 1.0, 3.0],\n",
       "                          'kernel': ['rbf']}],\n",
       "             scoring='neg_mean_squared_error', verbose=2)"
      ]
     },
     "execution_count": 96,
     "metadata": {},
     "output_type": "execute_result"
    }
   ],
   "source": [
    "#Exercise 1\n",
    "from sklearn.model_selection import GridSearchCV\n",
    "\n",
    "param_grid = [\n",
    "        {'kernel': ['linear'], 'C': [10., 30., 100., 300., 1000., 3000., 10000., 30000.0]},\n",
    "        {'kernel': ['rbf'], 'C': [1.0, 3.0, 10., 30., 100., 300., 1000.0], 'gamma': [0.01, 0.03, 0.1, 0.3, 1.0, 3.0]},\n",
    "    ]\n",
    "\n",
    "svm_reg = SVR()\n",
    "grid_search = GridSearchCV(svm_reg, param_grid, cv=5, scoring='neg_mean_squared_error', verbose=2)\n",
    "grid_search.fit(housing_prepared, housing_labels)"
   ]
  },
  {
   "cell_type": "code",
   "execution_count": 97,
   "metadata": {},
   "outputs": [
    {
     "data": {
      "text/plain": [
       "70363.84006944533"
      ]
     },
     "execution_count": 97,
     "metadata": {},
     "output_type": "execute_result"
    }
   ],
   "source": [
    "negative_mse = grid_search.best_score_\n",
    "rmse = np.sqrt(-negative_mse)\n",
    "rmse"
   ]
  },
  {
   "cell_type": "code",
   "execution_count": 98,
   "metadata": {},
   "outputs": [
    {
     "data": {
      "text/plain": [
       "{'C': 30000.0, 'kernel': 'linear'}"
      ]
     },
     "execution_count": 98,
     "metadata": {},
     "output_type": "execute_result"
    }
   ],
   "source": [
    "grid_search.best_params_\n",
    "#The linear kerner performs better than the RBF kernel."
   ]
  },
  {
   "cell_type": "code",
   "execution_count": 99,
   "metadata": {},
   "outputs": [],
   "source": [
    "#Exercise 2\n",
    "from sklearn.model_selection import RandomizedSearchCV\n",
    "from scipy.stats import expon, reciprocal\n",
    "\n",
    "param_distribs = {\n",
    "        'kernel': ['linear', 'rbf'],\n",
    "        'C': reciprocal(20, 200000),\n",
    "        'gamma': expon(scale=1.0),\n",
    "    }\n",
    "\n",
    "svm_reg = SVR()\n",
    "rnd_search = RandomizedSearchCV(svm_reg, param_distributions=param_distribs,\n",
    "                                n_iter=50, cv=5, scoring='neg_mean_squared_error',\n",
    "                                verbose=2, random_state=42)\n",
    "rnd_search.fit(housing_prepared, housing_labels)"
   ]
  },
  {
   "cell_type": "code",
   "execution_count": 100,
   "metadata": {},
   "outputs": [
    {
     "data": {
      "text/plain": [
       "49150.70756927707"
      ]
     },
     "execution_count": 100,
     "metadata": {},
     "output_type": "execute_result"
    }
   ],
   "source": [
    "negative_mse = rnd_search.best_score_\n",
    "rmse = np.sqrt(-negative_mse)\n",
    "rmse"
   ]
  },
  {
   "cell_type": "code",
   "execution_count": 101,
   "metadata": {},
   "outputs": [
    {
     "data": {
      "text/plain": [
       "{'max_features': 7, 'n_estimators': 180}"
      ]
     },
     "execution_count": 101,
     "metadata": {},
     "output_type": "execute_result"
    }
   ],
   "source": [
    "rnd_search.best_params_\n",
    "#This time it has a better chance of picking a better hypervariable, using about the same amount of time"
   ]
  },
  {
   "cell_type": "code",
   "execution_count": 115,
   "metadata": {},
   "outputs": [],
   "source": [
    "#Exercise 3\n",
    "from sklearn.base import BaseEstimator, TransformerMixin\n",
    "\n",
    "def indices_of_top_k(arr, k):\n",
    "    return np.sort(np.argpartition(np.array(arr), -k)[-k:])\n",
    "\n",
    "class TopFeatureSelector(BaseEstimator, TransformerMixin):\n",
    "    def __init__(self, feature_importances, k):\n",
    "        self.feature_importances = feature_importances\n",
    "        self.k = k\n",
    "    def fit(self, X, y=None):\n",
    "        self.feature_indices_ = indices_of_top_k(self.feature_importances, self.k)\n",
    "        return self\n",
    "    def transform(self, X):\n",
    "        return X[:, self.feature_indices_]"
   ]
  },
  {
   "cell_type": "code",
   "execution_count": 114,
   "metadata": {},
   "outputs": [],
   "source": [
    "k = 5\n",
    "\n",
    "top_k_feature_indices = indices_of_top_k(feature_importances, k)\n",
    "top_k_feature_indices"
   ]
  },
  {
   "cell_type": "code",
   "execution_count": 104,
   "metadata": {},
   "outputs": [
    {
     "data": {
      "text/plain": [
       "array(['longitude', 'latitude', 'median_income', 'pop_per_hhold',\n",
       "       'INLAND'], dtype='<U18')"
      ]
     },
     "execution_count": 104,
     "metadata": {},
     "output_type": "execute_result"
    }
   ],
   "source": [
    "np.array(attributes)[top_k_feature_indices]"
   ]
  },
  {
   "cell_type": "code",
   "execution_count": 105,
   "metadata": {},
   "outputs": [
    {
     "data": {
      "text/plain": [
       "[(0.36615898061813423, 'median_income'),\n",
       " (0.16478099356159054, 'INLAND'),\n",
       " (0.10879295677551575, 'pop_per_hhold'),\n",
       " (0.07334423551601243, 'longitude'),\n",
       " (0.06290907048262032, 'latitude')]"
      ]
     },
     "execution_count": 105,
     "metadata": {},
     "output_type": "execute_result"
    }
   ],
   "source": [
    "sorted(zip(feature_importances, attributes), reverse=True)[:k]"
   ]
  },
  {
   "cell_type": "code",
   "execution_count": 106,
   "metadata": {},
   "outputs": [],
   "source": [
    "preparation_and_feature_selection_pipeline = Pipeline([\n",
    "    ('preparation', full_pipeline),\n",
    "    ('feature_selection', TopFeatureSelector(feature_importances, k))\n",
    "])"
   ]
  },
  {
   "cell_type": "code",
   "execution_count": 107,
   "metadata": {},
   "outputs": [],
   "source": [
    "housing_prepared_top_k_features = preparation_and_feature_selection_pipeline.fit_transform(housing)"
   ]
  },
  {
   "cell_type": "code",
   "execution_count": 108,
   "metadata": {},
   "outputs": [
    {
     "data": {
      "text/plain": [
       "array([[-1.15604281,  0.77194962, -0.61493744, -0.08649871,  0.        ],\n",
       "       [-1.17602483,  0.6596948 ,  1.33645936, -0.03353391,  0.        ],\n",
       "       [ 1.18684903, -1.34218285, -0.5320456 , -0.09240499,  0.        ]])"
      ]
     },
     "execution_count": 108,
     "metadata": {},
     "output_type": "execute_result"
    }
   ],
   "source": [
    "housing_prepared_top_k_features[0:3]"
   ]
  },
  {
   "cell_type": "code",
   "execution_count": 109,
   "metadata": {},
   "outputs": [
    {
     "data": {
      "text/plain": [
       "array([[-1.15604281,  0.77194962, -0.61493744, -0.08649871,  0.        ],\n",
       "       [-1.17602483,  0.6596948 ,  1.33645936, -0.03353391,  0.        ],\n",
       "       [ 1.18684903, -1.34218285, -0.5320456 , -0.09240499,  0.        ]])"
      ]
     },
     "execution_count": 109,
     "metadata": {},
     "output_type": "execute_result"
    }
   ],
   "source": [
    "housing_prepared[0:3, top_k_feature_indices]"
   ]
  },
  {
   "cell_type": "code",
   "execution_count": 118,
   "metadata": {
    "scrolled": true
   },
   "outputs": [],
   "source": [
    "#I've been trying with the examples in the book to get 4 and 5 to work but can not :("
   ]
  },
  {
   "cell_type": "code",
   "execution_count": null,
   "metadata": {},
   "outputs": [],
   "source": []
  },
  {
   "cell_type": "code",
   "execution_count": null,
   "metadata": {},
   "outputs": [],
   "source": []
  },
  {
   "cell_type": "code",
   "execution_count": null,
   "metadata": {},
   "outputs": [],
   "source": []
  },
  {
   "cell_type": "code",
   "execution_count": null,
   "metadata": {},
   "outputs": [],
   "source": []
  }
 ],
 "metadata": {
  "kernelspec": {
   "display_name": "Python 3",
   "language": "python",
   "name": "python3"
  },
  "language_info": {
   "codemirror_mode": {
    "name": "ipython",
    "version": 3
   },
   "file_extension": ".py",
   "mimetype": "text/x-python",
   "name": "python",
   "nbconvert_exporter": "python",
   "pygments_lexer": "ipython3",
   "version": "3.8.2"
  }
 },
 "nbformat": 4,
 "nbformat_minor": 4
}
